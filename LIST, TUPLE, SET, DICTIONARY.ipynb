{
 "cells": [
  {
   "cell_type": "markdown",
   "id": "837263a6",
   "metadata": {},
   "source": [
    "## Collection datatypes"
   ]
  },
  {
   "cell_type": "markdown",
   "id": "4059673a",
   "metadata": {},
   "source": [
    "* List\n",
    "* Tuple\n",
    "* Set\n",
    "* Dictionary\n",
    "* Forzen sets\n",
    "* We use integer, string, float in colloction Datatypes\n",
    "* But ATTRIBUTES are different"
   ]
  },
  {
   "cell_type": "markdown",
   "id": "17f5589e",
   "metadata": {},
   "source": [
    "## List"
   ]
  },
  {
   "cell_type": "markdown",
   "id": "008379e9",
   "metadata": {},
   "source": [
    "In list datatypes we stored multiple values\n",
    "\n",
    "List datatypes represents in square brackets[ ]"
   ]
  },
  {
   "cell_type": "markdown",
   "id": "5b28aa25",
   "metadata": {},
   "source": [
    "## Creating a list of values"
   ]
  },
  {
   "cell_type": "code",
   "execution_count": 4,
   "id": "5968f4ee",
   "metadata": {},
   "outputs": [],
   "source": [
    "list = [1,2,3,4]"
   ]
  },
  {
   "cell_type": "markdown",
   "id": "ace380f5",
   "metadata": {},
   "source": [
    "### Basic function"
   ]
  },
  {
   "cell_type": "code",
   "execution_count": 5,
   "id": "eac80ba2",
   "metadata": {},
   "outputs": [
    {
     "name": "stdout",
     "output_type": "stream",
     "text": [
      "[1, 2, 3, 4]\n"
     ]
    }
   ],
   "source": [
    "print(list)"
   ]
  },
  {
   "cell_type": "code",
   "execution_count": 6,
   "id": "b585c499",
   "metadata": {},
   "outputs": [
    {
     "data": {
      "text/plain": [
       "list"
      ]
     },
     "execution_count": 6,
     "metadata": {},
     "output_type": "execute_result"
    }
   ],
   "source": [
    "type(list)"
   ]
  },
  {
   "cell_type": "code",
   "execution_count": 7,
   "id": "a202107d",
   "metadata": {},
   "outputs": [
    {
     "data": {
      "text/plain": [
       "2200936606976"
      ]
     },
     "execution_count": 7,
     "metadata": {},
     "output_type": "execute_result"
    }
   ],
   "source": [
    "id(list)"
   ]
  },
  {
   "cell_type": "code",
   "execution_count": 8,
   "id": "94ddd089",
   "metadata": {},
   "outputs": [
    {
     "data": {
      "text/plain": [
       "4"
      ]
     },
     "execution_count": 8,
     "metadata": {},
     "output_type": "execute_result"
    }
   ],
   "source": [
    "len(list)"
   ]
  },
  {
   "cell_type": "markdown",
   "id": "451aa22f",
   "metadata": {},
   "source": [
    "### Creating a empty list"
   ]
  },
  {
   "cell_type": "code",
   "execution_count": 9,
   "id": "3424e5b7",
   "metadata": {},
   "outputs": [],
   "source": [
    "val = []"
   ]
  },
  {
   "cell_type": "code",
   "execution_count": 10,
   "id": "47852729",
   "metadata": {},
   "outputs": [
    {
     "data": {
      "text/plain": [
       "0"
      ]
     },
     "execution_count": 10,
     "metadata": {},
     "output_type": "execute_result"
    }
   ],
   "source": [
    "len(val)"
   ]
  },
  {
   "cell_type": "code",
   "execution_count": 11,
   "id": "13b53d0c",
   "metadata": {},
   "outputs": [],
   "source": [
    "city = [\"kkd\",\"vizag\",\"dehli\",\"hyd\"]"
   ]
  },
  {
   "cell_type": "code",
   "execution_count": 12,
   "id": "ddfd8beb",
   "metadata": {},
   "outputs": [
    {
     "name": "stdout",
     "output_type": "stream",
     "text": [
      "['kkd', 'vizag', 'dehli', 'hyd']\n"
     ]
    }
   ],
   "source": [
    "print(city)"
   ]
  },
  {
   "cell_type": "code",
   "execution_count": 15,
   "id": "0b4e073f",
   "metadata": {},
   "outputs": [],
   "source": [
    "programms = [\"java\",\"sql\",\"python\",\"c\"]"
   ]
  },
  {
   "cell_type": "code",
   "execution_count": 16,
   "id": "ff70e402",
   "metadata": {},
   "outputs": [
    {
     "name": "stdout",
     "output_type": "stream",
     "text": [
      "['java', 'sql', 'python', 'c']\n"
     ]
    }
   ],
   "source": [
    "print(programms)"
   ]
  },
  {
   "cell_type": "code",
   "execution_count": 17,
   "id": "f26c8005",
   "metadata": {},
   "outputs": [
    {
     "data": {
      "text/plain": [
       "list"
      ]
     },
     "execution_count": 17,
     "metadata": {},
     "output_type": "execute_result"
    }
   ],
   "source": [
    "type(city)"
   ]
  },
  {
   "cell_type": "code",
   "execution_count": 18,
   "id": "b1dbf65d",
   "metadata": {},
   "outputs": [
    {
     "data": {
      "text/plain": [
       "2200936089344"
      ]
     },
     "execution_count": 18,
     "metadata": {},
     "output_type": "execute_result"
    }
   ],
   "source": [
    "id(city)"
   ]
  },
  {
   "cell_type": "code",
   "execution_count": 19,
   "id": "388a44b0",
   "metadata": {},
   "outputs": [
    {
     "data": {
      "text/plain": [
       "4"
      ]
     },
     "execution_count": 19,
     "metadata": {},
     "output_type": "execute_result"
    }
   ],
   "source": [
    "len(city)"
   ]
  },
  {
   "cell_type": "markdown",
   "id": "c69a47ea",
   "metadata": {},
   "source": [
    "### Atributes of list"
   ]
  },
  {
   "cell_type": "markdown",
   "id": "a1cd4bde",
   "metadata": {},
   "source": [
    "* M = Mutables\n",
    "* O = Ordered\n",
    "* D = Duplicate\n",
    "* I = Index"
   ]
  },
  {
   "cell_type": "markdown",
   "id": "e0382c32",
   "metadata": {},
   "source": [
    "### Mutable\n",
    "* Mutable means change the orginal values"
   ]
  },
  {
   "cell_type": "code",
   "execution_count": 20,
   "id": "a863e5d2",
   "metadata": {},
   "outputs": [],
   "source": [
    "a = 5 "
   ]
  },
  {
   "cell_type": "code",
   "execution_count": 21,
   "id": "152803a3",
   "metadata": {},
   "outputs": [
    {
     "data": {
      "text/plain": [
       "10"
      ]
     },
     "execution_count": 21,
     "metadata": {},
     "output_type": "execute_result"
    }
   ],
   "source": [
    "a + 5"
   ]
  },
  {
   "cell_type": "code",
   "execution_count": 22,
   "id": "99cea394",
   "metadata": {},
   "outputs": [
    {
     "data": {
      "text/plain": [
       "5"
      ]
     },
     "execution_count": 22,
     "metadata": {},
     "output_type": "execute_result"
    }
   ],
   "source": [
    "a"
   ]
  },
  {
   "cell_type": "code",
   "execution_count": 23,
   "id": "e2aee13e",
   "metadata": {},
   "outputs": [],
   "source": [
    "b = \"Hello\""
   ]
  },
  {
   "cell_type": "code",
   "execution_count": 25,
   "id": "db6d3839",
   "metadata": {},
   "outputs": [
    {
     "data": {
      "text/plain": [
       "'Helloworld'"
      ]
     },
     "execution_count": 25,
     "metadata": {},
     "output_type": "execute_result"
    }
   ],
   "source": [
    "b + \"world\""
   ]
  },
  {
   "cell_type": "code",
   "execution_count": 26,
   "id": "a96c45cd",
   "metadata": {},
   "outputs": [
    {
     "data": {
      "text/plain": [
       "'Hello'"
      ]
     },
     "execution_count": 26,
     "metadata": {},
     "output_type": "execute_result"
    }
   ],
   "source": [
    "b"
   ]
  },
  {
   "cell_type": "code",
   "execution_count": 27,
   "id": "3a265c9b",
   "metadata": {},
   "outputs": [],
   "source": [
    "c = 2.5"
   ]
  },
  {
   "cell_type": "code",
   "execution_count": 28,
   "id": "1c3f799d",
   "metadata": {},
   "outputs": [
    {
     "data": {
      "text/plain": [
       "6.0"
      ]
     },
     "execution_count": 28,
     "metadata": {},
     "output_type": "execute_result"
    }
   ],
   "source": [
    "c + 3.5"
   ]
  },
  {
   "cell_type": "code",
   "execution_count": 29,
   "id": "e7ca73e7",
   "metadata": {},
   "outputs": [],
   "source": [
    "list = [1,2,\"Hello\",True]"
   ]
  },
  {
   "cell_type": "code",
   "execution_count": 30,
   "id": "4118327b",
   "metadata": {},
   "outputs": [],
   "source": [
    "list.append(5)"
   ]
  },
  {
   "cell_type": "code",
   "execution_count": 31,
   "id": "a0bb7140",
   "metadata": {},
   "outputs": [
    {
     "data": {
      "text/plain": [
       "[1, 2, 'Hello', True, 5]"
      ]
     },
     "execution_count": 31,
     "metadata": {},
     "output_type": "execute_result"
    }
   ],
   "source": [
    "list"
   ]
  },
  {
   "cell_type": "markdown",
   "id": "6103afad",
   "metadata": {},
   "source": [
    "## Ordered\n",
    "* Follow some sequency or numbering"
   ]
  },
  {
   "cell_type": "code",
   "execution_count": 33,
   "id": "bd6d139b",
   "metadata": {},
   "outputs": [],
   "source": [
    "list = [1,2,3,4,6]"
   ]
  },
  {
   "cell_type": "code",
   "execution_count": 34,
   "id": "b4af4748",
   "metadata": {},
   "outputs": [
    {
     "data": {
      "text/plain": [
       "4"
      ]
     },
     "execution_count": 34,
     "metadata": {},
     "output_type": "execute_result"
    }
   ],
   "source": [
    "list[3]"
   ]
  },
  {
   "cell_type": "code",
   "execution_count": 36,
   "id": "f6ddaf09",
   "metadata": {},
   "outputs": [],
   "source": [
    "list = [1,2,\"Hello\",5.5,2+3j]"
   ]
  },
  {
   "cell_type": "code",
   "execution_count": 38,
   "id": "009a5c64",
   "metadata": {},
   "outputs": [
    {
     "data": {
      "text/plain": [
       "[2, 'Hello', 5.5, (2+3j)]"
      ]
     },
     "execution_count": 38,
     "metadata": {},
     "output_type": "execute_result"
    }
   ],
   "source": [
    "list[1:5]"
   ]
  },
  {
   "cell_type": "code",
   "execution_count": 39,
   "id": "6295a218",
   "metadata": {},
   "outputs": [
    {
     "data": {
      "text/plain": [
       "[2, 'Hello', 5.5, (2+3j)]"
      ]
     },
     "execution_count": 39,
     "metadata": {},
     "output_type": "execute_result"
    }
   ],
   "source": [
    "list[1:7]"
   ]
  },
  {
   "cell_type": "code",
   "execution_count": 40,
   "id": "0bca34da",
   "metadata": {},
   "outputs": [
    {
     "data": {
      "text/plain": [
       "[(2+3j), 5.5, 'Hello', 2]"
      ]
     },
     "execution_count": 40,
     "metadata": {},
     "output_type": "execute_result"
    }
   ],
   "source": [
    "list[-1:-5:-1]"
   ]
  },
  {
   "cell_type": "code",
   "execution_count": 42,
   "id": "39d4cb46",
   "metadata": {},
   "outputs": [
    {
     "data": {
      "text/plain": [
       "[5.5, 2]"
      ]
     },
     "execution_count": 42,
     "metadata": {},
     "output_type": "execute_result"
    }
   ],
   "source": [
    "list[-2:-5:-2]"
   ]
  },
  {
   "cell_type": "markdown",
   "id": "baf91ac3",
   "metadata": {},
   "source": [
    "## Duplicate"
   ]
  },
  {
   "cell_type": "markdown",
   "id": "224804a4",
   "metadata": {},
   "source": [
    "* It allows duplicate values"
   ]
  },
  {
   "cell_type": "code",
   "execution_count": 43,
   "id": "79b98a0a",
   "metadata": {},
   "outputs": [],
   "source": [
    "list = [1,2,3,3,4,4,5,]"
   ]
  },
  {
   "cell_type": "code",
   "execution_count": 44,
   "id": "01246dca",
   "metadata": {},
   "outputs": [
    {
     "data": {
      "text/plain": [
       "[1, 2, 3, 3, 4, 4, 5]"
      ]
     },
     "execution_count": 44,
     "metadata": {},
     "output_type": "execute_result"
    }
   ],
   "source": [
    "list"
   ]
  },
  {
   "cell_type": "code",
   "execution_count": 45,
   "id": "1b584abe",
   "metadata": {},
   "outputs": [],
   "source": [
    "a = [\"python\",\"c\",\"python\",\"c++\",\"sql\"]"
   ]
  },
  {
   "cell_type": "code",
   "execution_count": 46,
   "id": "ff6a4236",
   "metadata": {},
   "outputs": [
    {
     "data": {
      "text/plain": [
       "['python', 'c', 'python', 'c++', 'sql']"
      ]
     },
     "execution_count": 46,
     "metadata": {},
     "output_type": "execute_result"
    }
   ],
   "source": [
    "a "
   ]
  },
  {
   "cell_type": "markdown",
   "id": "6487683e",
   "metadata": {},
   "source": [
    "## Index"
   ]
  },
  {
   "cell_type": "markdown",
   "id": "ee2b765e",
   "metadata": {},
   "source": [
    "* It follows index number\n",
    "* We apply string concept in index"
   ]
  },
  {
   "cell_type": "code",
   "execution_count": 47,
   "id": "fa9937d4",
   "metadata": {},
   "outputs": [],
   "source": [
    "list = [\"java\",\"python\",\"c\",\"c++\",\"sql\"]"
   ]
  },
  {
   "cell_type": "code",
   "execution_count": 48,
   "id": "1ef80ca5",
   "metadata": {},
   "outputs": [
    {
     "data": {
      "text/plain": [
       "'python'"
      ]
     },
     "execution_count": 48,
     "metadata": {},
     "output_type": "execute_result"
    }
   ],
   "source": [
    "list[1]"
   ]
  },
  {
   "cell_type": "code",
   "execution_count": 49,
   "id": "4582baf5",
   "metadata": {},
   "outputs": [
    {
     "data": {
      "text/plain": [
       "'sql'"
      ]
     },
     "execution_count": 49,
     "metadata": {},
     "output_type": "execute_result"
    }
   ],
   "source": [
    "list[4]"
   ]
  },
  {
   "cell_type": "code",
   "execution_count": 53,
   "id": "9f7a151b",
   "metadata": {},
   "outputs": [
    {
     "data": {
      "text/plain": [
       "'He'"
      ]
     },
     "execution_count": 53,
     "metadata": {},
     "output_type": "execute_result"
    }
   ],
   "source": [
    "a = \"Hello\"\n",
    "a [0:2]"
   ]
  },
  {
   "cell_type": "code",
   "execution_count": 54,
   "id": "d892c318",
   "metadata": {},
   "outputs": [],
   "source": [
    "list = [\"java\",\"python\",\"c\",\"c++\",\"sql\"]"
   ]
  },
  {
   "cell_type": "code",
   "execution_count": 55,
   "id": "15d598db",
   "metadata": {},
   "outputs": [
    {
     "data": {
      "text/plain": [
       "'pytho'"
      ]
     },
     "execution_count": 55,
     "metadata": {},
     "output_type": "execute_result"
    }
   ],
   "source": [
    "list[1] [0:5]"
   ]
  },
  {
   "cell_type": "markdown",
   "id": "9a37f387",
   "metadata": {},
   "source": [
    "## Mathematical function"
   ]
  },
  {
   "cell_type": "code",
   "execution_count": 56,
   "id": "fc040d71",
   "metadata": {},
   "outputs": [],
   "source": [
    "l = [1,2,4,7,52,45]"
   ]
  },
  {
   "cell_type": "code",
   "execution_count": 57,
   "id": "63a3dccd",
   "metadata": {},
   "outputs": [
    {
     "data": {
      "text/plain": [
       "52"
      ]
     },
     "execution_count": 57,
     "metadata": {},
     "output_type": "execute_result"
    }
   ],
   "source": [
    "max(l)"
   ]
  },
  {
   "cell_type": "code",
   "execution_count": 58,
   "id": "4297a7f7",
   "metadata": {},
   "outputs": [
    {
     "data": {
      "text/plain": [
       "1"
      ]
     },
     "execution_count": 58,
     "metadata": {},
     "output_type": "execute_result"
    }
   ],
   "source": [
    "min(l)"
   ]
  },
  {
   "cell_type": "code",
   "execution_count": 59,
   "id": "d4519591",
   "metadata": {},
   "outputs": [
    {
     "data": {
      "text/plain": [
       "111"
      ]
     },
     "execution_count": 59,
     "metadata": {},
     "output_type": "execute_result"
    }
   ],
   "source": [
    "sum(l)"
   ]
  },
  {
   "cell_type": "markdown",
   "id": "6368a71c",
   "metadata": {},
   "source": [
    "## List methods and functions"
   ]
  },
  {
   "cell_type": "markdown",
   "id": "80b04b9f",
   "metadata": {},
   "source": [
    "### append()"
   ]
  },
  {
   "cell_type": "code",
   "execution_count": 60,
   "id": "22367f63",
   "metadata": {},
   "outputs": [],
   "source": [
    "list1 = [1,2,3,4,5]"
   ]
  },
  {
   "cell_type": "code",
   "execution_count": 61,
   "id": "641689f0",
   "metadata": {},
   "outputs": [],
   "source": [
    "list1.append(100)"
   ]
  },
  {
   "cell_type": "code",
   "execution_count": 62,
   "id": "55277a6d",
   "metadata": {},
   "outputs": [
    {
     "data": {
      "text/plain": [
       "[1, 2, 3, 4, 5, 100]"
      ]
     },
     "execution_count": 62,
     "metadata": {},
     "output_type": "execute_result"
    }
   ],
   "source": [
    "list1"
   ]
  },
  {
   "cell_type": "code",
   "execution_count": 63,
   "id": "ee5417bf",
   "metadata": {},
   "outputs": [],
   "source": [
    "list2 = [1,2,5,76,\"hello\"]"
   ]
  },
  {
   "cell_type": "code",
   "execution_count": 64,
   "id": "214f61c9",
   "metadata": {},
   "outputs": [],
   "source": [
    "list2.append(\"world\")"
   ]
  },
  {
   "cell_type": "code",
   "execution_count": 65,
   "id": "4662ce33",
   "metadata": {},
   "outputs": [
    {
     "data": {
      "text/plain": [
       "[1, 2, 5, 76, 'hello', 'world']"
      ]
     },
     "execution_count": 65,
     "metadata": {},
     "output_type": "execute_result"
    }
   ],
   "source": [
    "list2"
   ]
  },
  {
   "cell_type": "markdown",
   "id": "31f993a5",
   "metadata": {},
   "source": [
    "### Insert()"
   ]
  },
  {
   "cell_type": "code",
   "execution_count": 66,
   "id": "6f83503a",
   "metadata": {},
   "outputs": [],
   "source": [
    "list = [11,22,33,45,67,88]"
   ]
  },
  {
   "cell_type": "code",
   "execution_count": 69,
   "id": "02204bca",
   "metadata": {},
   "outputs": [],
   "source": [
    "list.insert(2,10)          # adding values between number"
   ]
  },
  {
   "cell_type": "code",
   "execution_count": 70,
   "id": "a5f42b7c",
   "metadata": {},
   "outputs": [
    {
     "data": {
      "text/plain": [
       "[11, 22, 10, 33, 45, 67, 88]"
      ]
     },
     "execution_count": 70,
     "metadata": {},
     "output_type": "execute_result"
    }
   ],
   "source": [
    "list"
   ]
  },
  {
   "cell_type": "code",
   "execution_count": 71,
   "id": "335680e7",
   "metadata": {},
   "outputs": [],
   "source": [
    "list = [22,34,74,\"hello\"]"
   ]
  },
  {
   "cell_type": "code",
   "execution_count": 72,
   "id": "5ccd2551",
   "metadata": {},
   "outputs": [],
   "source": [
    "list.insert(4,\"world\")"
   ]
  },
  {
   "cell_type": "code",
   "execution_count": 73,
   "id": "c0a8eae1",
   "metadata": {},
   "outputs": [
    {
     "data": {
      "text/plain": [
       "[22, 34, 74, 'hello', 'world']"
      ]
     },
     "execution_count": 73,
     "metadata": {},
     "output_type": "execute_result"
    }
   ],
   "source": [
    "list"
   ]
  },
  {
   "cell_type": "code",
   "execution_count": 75,
   "id": "542e47e9",
   "metadata": {},
   "outputs": [],
   "source": [
    "list.insert(2,80)"
   ]
  },
  {
   "cell_type": "code",
   "execution_count": 76,
   "id": "2ca97ecc",
   "metadata": {},
   "outputs": [
    {
     "data": {
      "text/plain": [
       "[22, 34, 80, 74, 'hello', 'world']"
      ]
     },
     "execution_count": 76,
     "metadata": {},
     "output_type": "execute_result"
    }
   ],
   "source": [
    "list"
   ]
  },
  {
   "cell_type": "markdown",
   "id": "31f4b7ef",
   "metadata": {},
   "source": [
    "### Extend()"
   ]
  },
  {
   "cell_type": "code",
   "execution_count": 77,
   "id": "ef54cb6c",
   "metadata": {},
   "outputs": [],
   "source": [
    "list2 = [1,2,3,4,5,6,7]"
   ]
  },
  {
   "cell_type": "code",
   "execution_count": 78,
   "id": "e5b9977a",
   "metadata": {},
   "outputs": [],
   "source": [
    "list2.extend([0,0,0])             # adding more values at the end"
   ]
  },
  {
   "cell_type": "code",
   "execution_count": 79,
   "id": "ad18de1d",
   "metadata": {},
   "outputs": [
    {
     "data": {
      "text/plain": [
       "[1, 2, 3, 4, 5, 6, 7, 0, 0, 0]"
      ]
     },
     "execution_count": 79,
     "metadata": {},
     "output_type": "execute_result"
    }
   ],
   "source": [
    "list2"
   ]
  },
  {
   "cell_type": "code",
   "execution_count": 80,
   "id": "b2dc130f",
   "metadata": {},
   "outputs": [],
   "source": [
    "list2.extend([\"hello\"])"
   ]
  },
  {
   "cell_type": "code",
   "execution_count": 81,
   "id": "afd79f65",
   "metadata": {},
   "outputs": [],
   "source": [
    "list2.extend([8,\"world\"])"
   ]
  },
  {
   "cell_type": "code",
   "execution_count": 82,
   "id": "21588292",
   "metadata": {},
   "outputs": [
    {
     "data": {
      "text/plain": [
       "[1, 2, 3, 4, 5, 6, 7, 0, 0, 0, 'hello', 8, 'world']"
      ]
     },
     "execution_count": 82,
     "metadata": {},
     "output_type": "execute_result"
    }
   ],
   "source": [
    "list2"
   ]
  },
  {
   "cell_type": "markdown",
   "id": "da9deb08",
   "metadata": {},
   "source": [
    "### remove()"
   ]
  },
  {
   "cell_type": "code",
   "execution_count": 83,
   "id": "5cb164d6",
   "metadata": {},
   "outputs": [],
   "source": [
    "list = [11,22,33,44,55]"
   ]
  },
  {
   "cell_type": "code",
   "execution_count": 84,
   "id": "55511c10",
   "metadata": {},
   "outputs": [],
   "source": [
    "list.remove(33)"
   ]
  },
  {
   "cell_type": "code",
   "execution_count": 85,
   "id": "d98ca27b",
   "metadata": {},
   "outputs": [
    {
     "data": {
      "text/plain": [
       "[11, 22, 44, 55]"
      ]
     },
     "execution_count": 85,
     "metadata": {},
     "output_type": "execute_result"
    }
   ],
   "source": [
    "list"
   ]
  },
  {
   "cell_type": "code",
   "execution_count": 1,
   "id": "b17d3cd5",
   "metadata": {},
   "outputs": [],
   "source": [
    "name = [\"ramesh\",\"suresh\",\"sai\"]"
   ]
  },
  {
   "cell_type": "code",
   "execution_count": 2,
   "id": "67cb9318",
   "metadata": {},
   "outputs": [],
   "source": [
    "name.remove(\"sai\")"
   ]
  },
  {
   "cell_type": "code",
   "execution_count": 3,
   "id": "c46c2f17",
   "metadata": {},
   "outputs": [
    {
     "data": {
      "text/plain": [
       "['ramesh', 'suresh']"
      ]
     },
     "execution_count": 3,
     "metadata": {},
     "output_type": "execute_result"
    }
   ],
   "source": [
    "name"
   ]
  },
  {
   "cell_type": "markdown",
   "id": "edb0c1dd",
   "metadata": {},
   "source": [
    "### pop()"
   ]
  },
  {
   "cell_type": "code",
   "execution_count": 4,
   "id": "846832c5",
   "metadata": {},
   "outputs": [],
   "source": [
    "list = [1,22,33,44,55]"
   ]
  },
  {
   "cell_type": "code",
   "execution_count": 5,
   "id": "6f0641e9",
   "metadata": {},
   "outputs": [
    {
     "data": {
      "text/plain": [
       "33"
      ]
     },
     "execution_count": 5,
     "metadata": {},
     "output_type": "execute_result"
    }
   ],
   "source": [
    "list.pop(2)"
   ]
  },
  {
   "cell_type": "code",
   "execution_count": 6,
   "id": "94907e3c",
   "metadata": {},
   "outputs": [
    {
     "data": {
      "text/plain": [
       "[1, 22, 44, 55]"
      ]
     },
     "execution_count": 6,
     "metadata": {},
     "output_type": "execute_result"
    }
   ],
   "source": [
    "list"
   ]
  },
  {
   "cell_type": "code",
   "execution_count": 7,
   "id": "6ae9daca",
   "metadata": {},
   "outputs": [],
   "source": [
    "list = [\"python\",\"java\",\"sql\"]"
   ]
  },
  {
   "cell_type": "code",
   "execution_count": 8,
   "id": "9bbe3774",
   "metadata": {},
   "outputs": [
    {
     "data": {
      "text/plain": [
       "'java'"
      ]
     },
     "execution_count": 8,
     "metadata": {},
     "output_type": "execute_result"
    }
   ],
   "source": [
    "list.pop(1)"
   ]
  },
  {
   "cell_type": "code",
   "execution_count": 9,
   "id": "79f9a44a",
   "metadata": {},
   "outputs": [
    {
     "data": {
      "text/plain": [
       "['python', 'sql']"
      ]
     },
     "execution_count": 9,
     "metadata": {},
     "output_type": "execute_result"
    }
   ],
   "source": [
    "list"
   ]
  },
  {
   "cell_type": "markdown",
   "id": "df2b0c07",
   "metadata": {},
   "source": [
    "### clear()"
   ]
  },
  {
   "cell_type": "code",
   "execution_count": 10,
   "id": "088e4fcf",
   "metadata": {},
   "outputs": [],
   "source": [
    "list = [44,66,77,99]"
   ]
  },
  {
   "cell_type": "code",
   "execution_count": 11,
   "id": "3d555374",
   "metadata": {},
   "outputs": [],
   "source": [
    "list.clear()"
   ]
  },
  {
   "cell_type": "code",
   "execution_count": 12,
   "id": "366c84f5",
   "metadata": {},
   "outputs": [
    {
     "data": {
      "text/plain": [
       "[]"
      ]
     },
     "execution_count": 12,
     "metadata": {},
     "output_type": "execute_result"
    }
   ],
   "source": [
    "list"
   ]
  },
  {
   "cell_type": "markdown",
   "id": "df2cd1e6",
   "metadata": {},
   "source": [
    "### copy()"
   ]
  },
  {
   "cell_type": "code",
   "execution_count": 13,
   "id": "aa64a5fc",
   "metadata": {},
   "outputs": [],
   "source": [
    "list = [\"hello\",23,55]"
   ]
  },
  {
   "cell_type": "code",
   "execution_count": 14,
   "id": "950f1391",
   "metadata": {},
   "outputs": [
    {
     "data": {
      "text/plain": [
       "['hello', 23, 55]"
      ]
     },
     "execution_count": 14,
     "metadata": {},
     "output_type": "execute_result"
    }
   ],
   "source": [
    "list.copy()"
   ]
  },
  {
   "cell_type": "markdown",
   "id": "d321144b",
   "metadata": {},
   "source": [
    "### count()"
   ]
  },
  {
   "cell_type": "code",
   "execution_count": 15,
   "id": "08c3f545",
   "metadata": {},
   "outputs": [],
   "source": [
    "list = [22,22,33,22,44,55,24]"
   ]
  },
  {
   "cell_type": "code",
   "execution_count": 16,
   "id": "72943486",
   "metadata": {},
   "outputs": [
    {
     "data": {
      "text/plain": [
       "3"
      ]
     },
     "execution_count": 16,
     "metadata": {},
     "output_type": "execute_result"
    }
   ],
   "source": [
    "list.count(22)"
   ]
  },
  {
   "cell_type": "code",
   "execution_count": 17,
   "id": "5ec292ea",
   "metadata": {},
   "outputs": [],
   "source": [
    "name = [\"sai\",\"satish\",\"sai\"]"
   ]
  },
  {
   "cell_type": "code",
   "execution_count": 18,
   "id": "4cefa7cc",
   "metadata": {},
   "outputs": [
    {
     "data": {
      "text/plain": [
       "2"
      ]
     },
     "execution_count": 18,
     "metadata": {},
     "output_type": "execute_result"
    }
   ],
   "source": [
    "name.count(\"sai\")"
   ]
  },
  {
   "cell_type": "markdown",
   "id": "6eaf47f6",
   "metadata": {},
   "source": [
    "## Index()"
   ]
  },
  {
   "cell_type": "code",
   "execution_count": 19,
   "id": "b91e3efc",
   "metadata": {},
   "outputs": [],
   "source": [
    "list = [\"hello\",1,2,3,4,\"hai\",5,6,7,8,9,10,\"hi\",67,78]"
   ]
  },
  {
   "cell_type": "code",
   "execution_count": 20,
   "id": "5a4ecab9",
   "metadata": {},
   "outputs": [
    {
     "data": {
      "text/plain": [
       "12"
      ]
     },
     "execution_count": 20,
     "metadata": {},
     "output_type": "execute_result"
    }
   ],
   "source": [
    "list.index(\"hi\")"
   ]
  },
  {
   "cell_type": "code",
   "execution_count": 2,
   "id": "096847e7",
   "metadata": {},
   "outputs": [
    {
     "name": "stdout",
     "output_type": "stream",
     "text": [
      "Help on class tuple in module builtins:\n",
      "\n",
      "class tuple(object)\n",
      " |  tuple(iterable=(), /)\n",
      " |  \n",
      " |  Built-in immutable sequence.\n",
      " |  \n",
      " |  If no argument is given, the constructor returns an empty tuple.\n",
      " |  If iterable is specified the tuple is initialized from iterable's items.\n",
      " |  \n",
      " |  If the argument is a tuple, the return value is the same object.\n",
      " |  \n",
      " |  Built-in subclasses:\n",
      " |      asyncgen_hooks\n",
      " |      UnraisableHookArgs\n",
      " |  \n",
      " |  Methods defined here:\n",
      " |  \n",
      " |  __add__(self, value, /)\n",
      " |      Return self+value.\n",
      " |  \n",
      " |  __contains__(self, key, /)\n",
      " |      Return key in self.\n",
      " |  \n",
      " |  __eq__(self, value, /)\n",
      " |      Return self==value.\n",
      " |  \n",
      " |  __ge__(self, value, /)\n",
      " |      Return self>=value.\n",
      " |  \n",
      " |  __getattribute__(self, name, /)\n",
      " |      Return getattr(self, name).\n",
      " |  \n",
      " |  __getitem__(self, key, /)\n",
      " |      Return self[key].\n",
      " |  \n",
      " |  __getnewargs__(self, /)\n",
      " |  \n",
      " |  __gt__(self, value, /)\n",
      " |      Return self>value.\n",
      " |  \n",
      " |  __hash__(self, /)\n",
      " |      Return hash(self).\n",
      " |  \n",
      " |  __iter__(self, /)\n",
      " |      Implement iter(self).\n",
      " |  \n",
      " |  __le__(self, value, /)\n",
      " |      Return self<=value.\n",
      " |  \n",
      " |  __len__(self, /)\n",
      " |      Return len(self).\n",
      " |  \n",
      " |  __lt__(self, value, /)\n",
      " |      Return self<value.\n",
      " |  \n",
      " |  __mul__(self, value, /)\n",
      " |      Return self*value.\n",
      " |  \n",
      " |  __ne__(self, value, /)\n",
      " |      Return self!=value.\n",
      " |  \n",
      " |  __repr__(self, /)\n",
      " |      Return repr(self).\n",
      " |  \n",
      " |  __rmul__(self, value, /)\n",
      " |      Return value*self.\n",
      " |  \n",
      " |  count(self, value, /)\n",
      " |      Return number of occurrences of value.\n",
      " |  \n",
      " |  index(self, value, start=0, stop=9223372036854775807, /)\n",
      " |      Return first index of value.\n",
      " |      \n",
      " |      Raises ValueError if the value is not present.\n",
      " |  \n",
      " |  ----------------------------------------------------------------------\n",
      " |  Class methods defined here:\n",
      " |  \n",
      " |  __class_getitem__(...) from builtins.type\n",
      " |      See PEP 585\n",
      " |  \n",
      " |  ----------------------------------------------------------------------\n",
      " |  Static methods defined here:\n",
      " |  \n",
      " |  __new__(*args, **kwargs) from builtins.type\n",
      " |      Create and return a new object.  See help(type) for accurate signature.\n",
      "\n"
     ]
    }
   ],
   "source": [
    "help(tuple)"
   ]
  },
  {
   "cell_type": "markdown",
   "id": "15742831",
   "metadata": {},
   "source": [
    "## Creating the tuple"
   ]
  },
  {
   "cell_type": "code",
   "execution_count": 3,
   "id": "0038e380",
   "metadata": {},
   "outputs": [],
   "source": [
    "tup = (1,2,3,4,5)"
   ]
  },
  {
   "cell_type": "code",
   "execution_count": 5,
   "id": "1d172574",
   "metadata": {},
   "outputs": [
    {
     "name": "stdout",
     "output_type": "stream",
     "text": [
      "<class 'tuple'>\n"
     ]
    }
   ],
   "source": [
    "print(tuple)"
   ]
  },
  {
   "cell_type": "code",
   "execution_count": 6,
   "id": "eb5c3a76",
   "metadata": {},
   "outputs": [
    {
     "name": "stdout",
     "output_type": "stream",
     "text": [
      "(1, 2, 3, 4, 5)\n"
     ]
    }
   ],
   "source": [
    "print(tup)"
   ]
  },
  {
   "cell_type": "code",
   "execution_count": 7,
   "id": "38df02ea",
   "metadata": {},
   "outputs": [
    {
     "data": {
      "text/plain": [
       "tuple"
      ]
     },
     "execution_count": 7,
     "metadata": {},
     "output_type": "execute_result"
    }
   ],
   "source": [
    "type(tup)"
   ]
  },
  {
   "cell_type": "code",
   "execution_count": 8,
   "id": "ec5a25ff",
   "metadata": {},
   "outputs": [
    {
     "data": {
      "text/plain": [
       "1572590586352"
      ]
     },
     "execution_count": 8,
     "metadata": {},
     "output_type": "execute_result"
    }
   ],
   "source": [
    "id(tup)"
   ]
  },
  {
   "cell_type": "code",
   "execution_count": 9,
   "id": "31a80c94",
   "metadata": {},
   "outputs": [
    {
     "data": {
      "text/plain": [
       "5"
      ]
     },
     "execution_count": 9,
     "metadata": {},
     "output_type": "execute_result"
    }
   ],
   "source": [
    "len(tup)"
   ]
  },
  {
   "cell_type": "code",
   "execution_count": 10,
   "id": "4bd07514",
   "metadata": {},
   "outputs": [
    {
     "data": {
      "text/plain": [
       "['__add__',\n",
       " '__class__',\n",
       " '__class_getitem__',\n",
       " '__contains__',\n",
       " '__delattr__',\n",
       " '__dir__',\n",
       " '__doc__',\n",
       " '__eq__',\n",
       " '__format__',\n",
       " '__ge__',\n",
       " '__getattribute__',\n",
       " '__getitem__',\n",
       " '__getnewargs__',\n",
       " '__getstate__',\n",
       " '__gt__',\n",
       " '__hash__',\n",
       " '__init__',\n",
       " '__init_subclass__',\n",
       " '__iter__',\n",
       " '__le__',\n",
       " '__len__',\n",
       " '__lt__',\n",
       " '__mul__',\n",
       " '__ne__',\n",
       " '__new__',\n",
       " '__reduce__',\n",
       " '__reduce_ex__',\n",
       " '__repr__',\n",
       " '__rmul__',\n",
       " '__setattr__',\n",
       " '__sizeof__',\n",
       " '__str__',\n",
       " '__subclasshook__',\n",
       " 'count',\n",
       " 'index']"
      ]
     },
     "execution_count": 10,
     "metadata": {},
     "output_type": "execute_result"
    }
   ],
   "source": [
    "dir(tuple)"
   ]
  },
  {
   "cell_type": "code",
   "execution_count": 11,
   "id": "d4e56711",
   "metadata": {},
   "outputs": [],
   "source": [
    "val = tuple([\"hello\",\"hai\",\"hi\"])"
   ]
  },
  {
   "cell_type": "code",
   "execution_count": 12,
   "id": "49c3ceb8",
   "metadata": {},
   "outputs": [
    {
     "data": {
      "text/plain": [
       "tuple"
      ]
     },
     "execution_count": 12,
     "metadata": {},
     "output_type": "execute_result"
    }
   ],
   "source": [
    "type(val)"
   ]
  },
  {
   "cell_type": "code",
   "execution_count": 13,
   "id": "f4a2e941",
   "metadata": {},
   "outputs": [
    {
     "name": "stdout",
     "output_type": "stream",
     "text": [
      "('hello', 'hai', 'hi')\n"
     ]
    }
   ],
   "source": [
    "print (val)"
   ]
  },
  {
   "cell_type": "markdown",
   "id": "cc9150fd",
   "metadata": {},
   "source": [
    "## Tuple methods and functions"
   ]
  },
  {
   "cell_type": "markdown",
   "id": "65d0302b",
   "metadata": {},
   "source": [
    "## count()"
   ]
  },
  {
   "cell_type": "code",
   "execution_count": 18,
   "id": "f0441c3e",
   "metadata": {},
   "outputs": [],
   "source": [
    "t = (1,2,3,4,5,6,7,7,8,8,6,6)            # It counts the selected value"
   ]
  },
  {
   "cell_type": "code",
   "execution_count": 15,
   "id": "b59b4cac",
   "metadata": {},
   "outputs": [
    {
     "data": {
      "text/plain": [
       "1"
      ]
     },
     "execution_count": 15,
     "metadata": {},
     "output_type": "execute_result"
    }
   ],
   "source": [
    "t.count(2)"
   ]
  },
  {
   "cell_type": "code",
   "execution_count": 17,
   "id": "c34bc716",
   "metadata": {},
   "outputs": [
    {
     "data": {
      "text/plain": [
       "3"
      ]
     },
     "execution_count": 17,
     "metadata": {},
     "output_type": "execute_result"
    }
   ],
   "source": [
    "t.count(6)"
   ]
  },
  {
   "cell_type": "markdown",
   "id": "21820118",
   "metadata": {},
   "source": [
    "## Index()"
   ]
  },
  {
   "cell_type": "code",
   "execution_count": 22,
   "id": "2a0acc47",
   "metadata": {},
   "outputs": [],
   "source": [
    "num = (1,2,3,4,5,6,7,8)                # It shows the position of value"
   ]
  },
  {
   "cell_type": "code",
   "execution_count": 23,
   "id": "24e79286",
   "metadata": {},
   "outputs": [
    {
     "data": {
      "text/plain": [
       "2"
      ]
     },
     "execution_count": 23,
     "metadata": {},
     "output_type": "execute_result"
    }
   ],
   "source": [
    "num.index(3)"
   ]
  },
  {
   "cell_type": "code",
   "execution_count": 24,
   "id": "9f41ebf5",
   "metadata": {},
   "outputs": [
    {
     "data": {
      "text/plain": [
       "6"
      ]
     },
     "execution_count": 24,
     "metadata": {},
     "output_type": "execute_result"
    }
   ],
   "source": [
    "num.index(7)"
   ]
  },
  {
   "cell_type": "markdown",
   "id": "03849d1c",
   "metadata": {},
   "source": [
    "## Tuple()"
   ]
  },
  {
   "cell_type": "markdown",
   "id": "d63bb8fe",
   "metadata": {},
   "source": [
    "IM - Immutable\n",
    "\n",
    "O - Ordered\n",
    "\n",
    "D - Duplicates\n",
    "\n",
    "I - Index"
   ]
  },
  {
   "cell_type": "markdown",
   "id": "b0fe5bc7",
   "metadata": {},
   "source": [
    "## Immutable"
   ]
  },
  {
   "cell_type": "markdown",
   "id": "ccd9a69b",
   "metadata": {},
   "source": [
    "* Once a tuple is created you cannot change, add or remove elements form it"
   ]
  },
  {
   "cell_type": "markdown",
   "id": "aeeb468e",
   "metadata": {},
   "source": [
    "## Ordered"
   ]
  },
  {
   "cell_type": "markdown",
   "id": "82adf6cb",
   "metadata": {},
   "source": [
    "* Follow some sequency or numbering"
   ]
  },
  {
   "cell_type": "markdown",
   "id": "82f5e88b",
   "metadata": {},
   "source": [
    "## Duplicates"
   ]
  },
  {
   "cell_type": "markdown",
   "id": "dacba8da",
   "metadata": {},
   "source": [
    "* It allows duplicates values"
   ]
  },
  {
   "cell_type": "markdown",
   "id": "30d08478",
   "metadata": {},
   "source": [
    "## Index"
   ]
  },
  {
   "cell_type": "markdown",
   "id": "6771b7f1",
   "metadata": {},
   "source": [
    "* It follows index number"
   ]
  },
  {
   "cell_type": "code",
   "execution_count": 37,
   "id": "72424fba",
   "metadata": {},
   "outputs": [],
   "source": [
    "t = (1,2,3,4,5,6)"
   ]
  },
  {
   "cell_type": "code",
   "execution_count": 38,
   "id": "8709a26d",
   "metadata": {},
   "outputs": [
    {
     "data": {
      "text/plain": [
       "6"
      ]
     },
     "execution_count": 38,
     "metadata": {},
     "output_type": "execute_result"
    }
   ],
   "source": [
    "t [5]"
   ]
  },
  {
   "cell_type": "code",
   "execution_count": 39,
   "id": "d635c784",
   "metadata": {},
   "outputs": [
    {
     "data": {
      "text/plain": [
       "(3, 4)"
      ]
     },
     "execution_count": 39,
     "metadata": {},
     "output_type": "execute_result"
    }
   ],
   "source": [
    "t[2:4]"
   ]
  },
  {
   "cell_type": "code",
   "execution_count": 40,
   "id": "ed1d3c6e",
   "metadata": {},
   "outputs": [
    {
     "data": {
      "text/plain": [
       "(2, 4)"
      ]
     },
     "execution_count": 40,
     "metadata": {},
     "output_type": "execute_result"
    }
   ],
   "source": [
    "t[1:5:2]"
   ]
  },
  {
   "cell_type": "code",
   "execution_count": 41,
   "id": "451a8f64",
   "metadata": {},
   "outputs": [],
   "source": [
    "t = (1,2,3,4,5,)\n",
    "t2 = (7,8,9,10)"
   ]
  },
  {
   "cell_type": "code",
   "execution_count": 42,
   "id": "73a7d30f",
   "metadata": {},
   "outputs": [
    {
     "data": {
      "text/plain": [
       "(1, 2, 3, 4, 5, 7, 8, 9, 10)"
      ]
     },
     "execution_count": 42,
     "metadata": {},
     "output_type": "execute_result"
    }
   ],
   "source": [
    "t + t2"
   ]
  },
  {
   "cell_type": "code",
   "execution_count": 43,
   "id": "b4b99a8f",
   "metadata": {},
   "outputs": [
    {
     "data": {
      "text/plain": [
       "(1, 2, 3, 4, 5)"
      ]
     },
     "execution_count": 43,
     "metadata": {},
     "output_type": "execute_result"
    }
   ],
   "source": [
    "t"
   ]
  },
  {
   "cell_type": "code",
   "execution_count": 44,
   "id": "26f6b709",
   "metadata": {},
   "outputs": [
    {
     "data": {
      "text/plain": [
       "(7, 8, 9, 10)"
      ]
     },
     "execution_count": 44,
     "metadata": {},
     "output_type": "execute_result"
    }
   ],
   "source": [
    "t2"
   ]
  },
  {
   "cell_type": "code",
   "execution_count": 50,
   "id": "181701eb",
   "metadata": {},
   "outputs": [],
   "source": [
    "a = (22,33,44,55,[66,77])"
   ]
  },
  {
   "cell_type": "code",
   "execution_count": 52,
   "id": "cc4f3a6c",
   "metadata": {},
   "outputs": [],
   "source": [
    "a[4].append(88)"
   ]
  },
  {
   "cell_type": "code",
   "execution_count": 53,
   "id": "ba50f503",
   "metadata": {},
   "outputs": [
    {
     "data": {
      "text/plain": [
       "(22, 33, 44, 55, [66, 77, 88])"
      ]
     },
     "execution_count": 53,
     "metadata": {},
     "output_type": "execute_result"
    }
   ],
   "source": [
    "a"
   ]
  },
  {
   "cell_type": "markdown",
   "id": "d588f624",
   "metadata": {},
   "source": [
    "## Time and Speed"
   ]
  },
  {
   "cell_type": "code",
   "execution_count": 55,
   "id": "79063c78",
   "metadata": {},
   "outputs": [],
   "source": [
    "list1 = [1,2,3,4,5]\n",
    "tuple = (1,2,3,4,5)"
   ]
  },
  {
   "cell_type": "code",
   "execution_count": 56,
   "id": "c07b767e",
   "metadata": {},
   "outputs": [],
   "source": [
    "import sys"
   ]
  },
  {
   "cell_type": "code",
   "execution_count": 60,
   "id": "1c172f80",
   "metadata": {},
   "outputs": [
    {
     "data": {
      "text/plain": [
       "104"
      ]
     },
     "execution_count": 60,
     "metadata": {},
     "output_type": "execute_result"
    }
   ],
   "source": [
    "sys.getsizeof(list1)           # List takes more memory"
   ]
  },
  {
   "cell_type": "code",
   "execution_count": 61,
   "id": "70310024",
   "metadata": {},
   "outputs": [
    {
     "data": {
      "text/plain": [
       "80"
      ]
     },
     "execution_count": 61,
     "metadata": {},
     "output_type": "execute_result"
    }
   ],
   "source": [
    "sys.getsizeof(tuple)           # Tuple takes less memory"
   ]
  },
  {
   "cell_type": "code",
   "execution_count": 66,
   "id": "f1b354d3",
   "metadata": {},
   "outputs": [],
   "source": [
    "import timeit"
   ]
  },
  {
   "cell_type": "code",
   "execution_count": 67,
   "id": "0f28c9ca",
   "metadata": {},
   "outputs": [
    {
     "data": {
      "text/plain": [
       "0.12801630003377795"
      ]
     },
     "execution_count": 67,
     "metadata": {},
     "output_type": "execute_result"
    }
   ],
   "source": [
    "timeit.timeit(stmt=f'{list1}')  # List takes more time"
   ]
  },
  {
   "cell_type": "code",
   "execution_count": 69,
   "id": "871a403b",
   "metadata": {},
   "outputs": [
    {
     "data": {
      "text/plain": [
       "0.022583000012673438"
      ]
     },
     "execution_count": 69,
     "metadata": {},
     "output_type": "execute_result"
    }
   ],
   "source": [
    "timeit.timeit(stmt=f'{tuple}')    #tuple takes less time"
   ]
  },
  {
   "cell_type": "markdown",
   "id": "f3317d8f",
   "metadata": {},
   "source": [
    "## Differnece between set and tuple"
   ]
  },
  {
   "cell_type": "markdown",
   "id": "090b62dd",
   "metadata": {},
   "source": [
    "List            -       Tuple\n",
    "\n",
    "Mutable         -       Immutable\n",
    "\n",
    "More memory     -       Less memory\n",
    "\n",
    "More time       -       Less time"
   ]
  },
  {
   "cell_type": "markdown",
   "id": "e488c843",
   "metadata": {},
   "source": [
    "## Set{ }"
   ]
  },
  {
   "cell_type": "markdown",
   "id": "ce8c6351",
   "metadata": {},
   "source": [
    "* We can store multiple values\n",
    "* Set datatype represents in curly brackets{ }"
   ]
  },
  {
   "cell_type": "markdown",
   "id": "6abce660",
   "metadata": {},
   "source": [
    "## Attributes of set"
   ]
  },
  {
   "cell_type": "markdown",
   "id": "a018f078",
   "metadata": {},
   "source": [
    "* Mutables\n",
    "\n",
    "* Unordered\n",
    "\n",
    "* No Duplicates \n",
    "\n",
    "* No Index"
   ]
  },
  {
   "cell_type": "markdown",
   "id": "ad39bcaa",
   "metadata": {},
   "source": [
    "## Creating sets"
   ]
  },
  {
   "cell_type": "markdown",
   "id": "6a703570",
   "metadata": {},
   "source": [
    "* Sets can be created two ways\n",
    "\n",
    "* Using curly brackets { }\n",
    "\n",
    "* Using class set"
   ]
  },
  {
   "cell_type": "code",
   "execution_count": 2,
   "id": "32915c18",
   "metadata": {},
   "outputs": [],
   "source": [
    "set1 = {1,2,3,4,5,6}"
   ]
  },
  {
   "cell_type": "code",
   "execution_count": 4,
   "id": "061587a2",
   "metadata": {},
   "outputs": [
    {
     "data": {
      "text/plain": [
       "set"
      ]
     },
     "execution_count": 4,
     "metadata": {},
     "output_type": "execute_result"
    }
   ],
   "source": [
    "type(set1)"
   ]
  },
  {
   "cell_type": "code",
   "execution_count": 5,
   "id": "05a89165",
   "metadata": {},
   "outputs": [
    {
     "data": {
      "text/plain": [
       "6"
      ]
     },
     "execution_count": 5,
     "metadata": {},
     "output_type": "execute_result"
    }
   ],
   "source": [
    "len(set1)"
   ]
  },
  {
   "cell_type": "markdown",
   "id": "e9960029",
   "metadata": {},
   "source": [
    "## Empty set"
   ]
  },
  {
   "cell_type": "code",
   "execution_count": 6,
   "id": "7609eb9c",
   "metadata": {},
   "outputs": [],
   "source": [
    "set = set()"
   ]
  },
  {
   "cell_type": "code",
   "execution_count": 7,
   "id": "04101d76",
   "metadata": {},
   "outputs": [
    {
     "data": {
      "text/plain": [
       "set"
      ]
     },
     "execution_count": 7,
     "metadata": {},
     "output_type": "execute_result"
    }
   ],
   "source": [
    "type(set)"
   ]
  },
  {
   "cell_type": "markdown",
   "id": "8a8e97a8",
   "metadata": {},
   "source": [
    "## Methods and Functions"
   ]
  },
  {
   "cell_type": "code",
   "execution_count": 9,
   "id": "0824f639",
   "metadata": {},
   "outputs": [],
   "source": [
    "set1 = {1,2,3,4,5}"
   ]
  },
  {
   "cell_type": "code",
   "execution_count": 15,
   "id": "640f91ea",
   "metadata": {},
   "outputs": [],
   "source": [
    "set1.add(10)"
   ]
  },
  {
   "cell_type": "code",
   "execution_count": 16,
   "id": "536c8926",
   "metadata": {},
   "outputs": [
    {
     "data": {
      "text/plain": [
       "{1, 2, 3, 4, 5, 10}"
      ]
     },
     "execution_count": 16,
     "metadata": {},
     "output_type": "execute_result"
    }
   ],
   "source": [
    "set1"
   ]
  },
  {
   "cell_type": "code",
   "execution_count": 17,
   "id": "ccfd92e7",
   "metadata": {},
   "outputs": [],
   "source": [
    "set1.add(1)"
   ]
  },
  {
   "cell_type": "code",
   "execution_count": 18,
   "id": "1379cdd1",
   "metadata": {},
   "outputs": [
    {
     "data": {
      "text/plain": [
       "{1, 2, 3, 4, 5, 10}"
      ]
     },
     "execution_count": 18,
     "metadata": {},
     "output_type": "execute_result"
    }
   ],
   "source": [
    "set1"
   ]
  },
  {
   "cell_type": "code",
   "execution_count": 19,
   "id": "0607ed63",
   "metadata": {},
   "outputs": [],
   "source": [
    "name = {2,2,5,\"Hello\",\"Hi\",True}"
   ]
  },
  {
   "cell_type": "code",
   "execution_count": 20,
   "id": "6ef74b4e",
   "metadata": {},
   "outputs": [
    {
     "data": {
      "text/plain": [
       "5"
      ]
     },
     "execution_count": 20,
     "metadata": {},
     "output_type": "execute_result"
    }
   ],
   "source": [
    "len(name)"
   ]
  },
  {
   "cell_type": "code",
   "execution_count": 22,
   "id": "28786527",
   "metadata": {},
   "outputs": [
    {
     "data": {
      "text/plain": [
       "1"
      ]
     },
     "execution_count": 22,
     "metadata": {},
     "output_type": "execute_result"
    }
   ],
   "source": [
    "int(True)"
   ]
  },
  {
   "cell_type": "code",
   "execution_count": 23,
   "id": "1e4f88f8",
   "metadata": {},
   "outputs": [],
   "source": [
    "n = {True,False,True,False}"
   ]
  },
  {
   "cell_type": "code",
   "execution_count": 24,
   "id": "a5fa35ac",
   "metadata": {},
   "outputs": [
    {
     "data": {
      "text/plain": [
       "{False, True}"
      ]
     },
     "execution_count": 24,
     "metadata": {},
     "output_type": "execute_result"
    }
   ],
   "source": [
    "n "
   ]
  },
  {
   "cell_type": "code",
   "execution_count": 25,
   "id": "24603453",
   "metadata": {},
   "outputs": [
    {
     "data": {
      "text/plain": [
       "['__and__',\n",
       " '__class__',\n",
       " '__class_getitem__',\n",
       " '__contains__',\n",
       " '__delattr__',\n",
       " '__dir__',\n",
       " '__doc__',\n",
       " '__eq__',\n",
       " '__format__',\n",
       " '__ge__',\n",
       " '__getattribute__',\n",
       " '__getstate__',\n",
       " '__gt__',\n",
       " '__hash__',\n",
       " '__iand__',\n",
       " '__init__',\n",
       " '__init_subclass__',\n",
       " '__ior__',\n",
       " '__isub__',\n",
       " '__iter__',\n",
       " '__ixor__',\n",
       " '__le__',\n",
       " '__len__',\n",
       " '__lt__',\n",
       " '__ne__',\n",
       " '__new__',\n",
       " '__or__',\n",
       " '__rand__',\n",
       " '__reduce__',\n",
       " '__reduce_ex__',\n",
       " '__repr__',\n",
       " '__ror__',\n",
       " '__rsub__',\n",
       " '__rxor__',\n",
       " '__setattr__',\n",
       " '__sizeof__',\n",
       " '__str__',\n",
       " '__sub__',\n",
       " '__subclasshook__',\n",
       " '__xor__',\n",
       " 'add',\n",
       " 'clear',\n",
       " 'copy',\n",
       " 'difference',\n",
       " 'difference_update',\n",
       " 'discard',\n",
       " 'intersection',\n",
       " 'intersection_update',\n",
       " 'isdisjoint',\n",
       " 'issubset',\n",
       " 'issuperset',\n",
       " 'pop',\n",
       " 'remove',\n",
       " 'symmetric_difference',\n",
       " 'symmetric_difference_update',\n",
       " 'union',\n",
       " 'update']"
      ]
     },
     "execution_count": 25,
     "metadata": {},
     "output_type": "execute_result"
    }
   ],
   "source": [
    "s = set\n",
    "dir(s)"
   ]
  },
  {
   "cell_type": "markdown",
   "id": "b53ff856",
   "metadata": {},
   "source": [
    "## Add()"
   ]
  },
  {
   "cell_type": "code",
   "execution_count": 29,
   "id": "8be3e6ee",
   "metadata": {},
   "outputs": [],
   "source": [
    "set = {1,2,3,4,5}            # Adding of elements"
   ]
  },
  {
   "cell_type": "code",
   "execution_count": 27,
   "id": "8c507b4a",
   "metadata": {},
   "outputs": [],
   "source": [
    "set.add(6)"
   ]
  },
  {
   "cell_type": "code",
   "execution_count": 28,
   "id": "747be104",
   "metadata": {},
   "outputs": [
    {
     "data": {
      "text/plain": [
       "{1, 2, 3, 4, 5, 6}"
      ]
     },
     "execution_count": 28,
     "metadata": {},
     "output_type": "execute_result"
    }
   ],
   "source": [
    "set"
   ]
  },
  {
   "cell_type": "markdown",
   "id": "5b10a8db",
   "metadata": {},
   "source": [
    "## Clear()"
   ]
  },
  {
   "cell_type": "code",
   "execution_count": 33,
   "id": "43bc2b92",
   "metadata": {},
   "outputs": [],
   "source": [
    "set1 = {11,22,33,44,55}      # It removes all elements in set"
   ]
  },
  {
   "cell_type": "code",
   "execution_count": 34,
   "id": "f00084cd",
   "metadata": {},
   "outputs": [],
   "source": [
    "set1.clear()"
   ]
  },
  {
   "cell_type": "code",
   "execution_count": 35,
   "id": "b08f5e62",
   "metadata": {},
   "outputs": [
    {
     "data": {
      "text/plain": [
       "set()"
      ]
     },
     "execution_count": 35,
     "metadata": {},
     "output_type": "execute_result"
    }
   ],
   "source": [
    "set1"
   ]
  },
  {
   "cell_type": "markdown",
   "id": "51b64efe",
   "metadata": {},
   "source": [
    "## Copy()"
   ]
  },
  {
   "cell_type": "code",
   "execution_count": 43,
   "id": "b6f2acad",
   "metadata": {},
   "outputs": [],
   "source": [
    "set2 = {12,23,33,43,55}"
   ]
  },
  {
   "cell_type": "code",
   "execution_count": 46,
   "id": "f6fedc60",
   "metadata": {},
   "outputs": [
    {
     "data": {
      "text/plain": [
       "{12, 23, 33, 43, 55}"
      ]
     },
     "execution_count": 46,
     "metadata": {},
     "output_type": "execute_result"
    }
   ],
   "source": [
    "set2.copy()"
   ]
  },
  {
   "cell_type": "markdown",
   "id": "71120188",
   "metadata": {},
   "source": [
    "### Difference"
   ]
  },
  {
   "cell_type": "code",
   "execution_count": 47,
   "id": "02c07cd1",
   "metadata": {},
   "outputs": [],
   "source": [
    "a = {1,2,3,4,5}\n",
    "b = {3,4,5,6,7,8}\n",
    "c = {'a','b','c'}"
   ]
  },
  {
   "cell_type": "code",
   "execution_count": 49,
   "id": "1d1389f2",
   "metadata": {},
   "outputs": [
    {
     "name": "stdout",
     "output_type": "stream",
     "text": [
      "{1, 2, 3, 4, 5}\n",
      "{3, 4, 5, 6, 7, 8}\n",
      "{'c', 'b', 'a'}\n"
     ]
    }
   ],
   "source": [
    "print(a,b,c,sep=\"\\n\")"
   ]
  },
  {
   "cell_type": "code",
   "execution_count": 51,
   "id": "403475bd",
   "metadata": {},
   "outputs": [
    {
     "data": {
      "text/plain": [
       "{1, 2}"
      ]
     },
     "execution_count": 51,
     "metadata": {},
     "output_type": "execute_result"
    }
   ],
   "source": [
    "a.difference(b)"
   ]
  },
  {
   "cell_type": "code",
   "execution_count": 52,
   "id": "b8c80991",
   "metadata": {},
   "outputs": [
    {
     "data": {
      "text/plain": [
       "set()"
      ]
     },
     "execution_count": 52,
     "metadata": {},
     "output_type": "execute_result"
    }
   ],
   "source": [
    "a.difference(a)"
   ]
  },
  {
   "cell_type": "markdown",
   "id": "18e96589",
   "metadata": {},
   "source": [
    "### Discard()"
   ]
  },
  {
   "cell_type": "code",
   "execution_count": 59,
   "id": "d83e2a5e",
   "metadata": {},
   "outputs": [],
   "source": [
    "x = {12,13,14,15}"
   ]
  },
  {
   "cell_type": "code",
   "execution_count": 60,
   "id": "70338ec2",
   "metadata": {},
   "outputs": [],
   "source": [
    "x.discard(9)"
   ]
  },
  {
   "cell_type": "code",
   "execution_count": 61,
   "id": "40d8af39",
   "metadata": {},
   "outputs": [
    {
     "name": "stdout",
     "output_type": "stream",
     "text": [
      "{12, 13, 14, 15}\n"
     ]
    }
   ],
   "source": [
    "print(x)"
   ]
  },
  {
   "cell_type": "code",
   "execution_count": 62,
   "id": "f57ef6c8",
   "metadata": {},
   "outputs": [],
   "source": [
    "x = {12,45,54,56}\n",
    "x.discard(33)"
   ]
  },
  {
   "cell_type": "code",
   "execution_count": 63,
   "id": "006273bd",
   "metadata": {},
   "outputs": [
    {
     "name": "stdout",
     "output_type": "stream",
     "text": [
      "{56, 12, 45, 54}\n"
     ]
    }
   ],
   "source": [
    "print(x)"
   ]
  },
  {
   "cell_type": "markdown",
   "id": "ff990f03",
   "metadata": {},
   "source": [
    "### Union()"
   ]
  },
  {
   "cell_type": "code",
   "execution_count": 65,
   "id": "fd98a229",
   "metadata": {},
   "outputs": [],
   "source": [
    "set1 = {0,1,2,3,4,5,6}\n",
    "set2 = {2,4,200,230,452}"
   ]
  },
  {
   "cell_type": "code",
   "execution_count": 66,
   "id": "0f39f028",
   "metadata": {},
   "outputs": [
    {
     "data": {
      "text/plain": [
       "{0, 1, 2, 3, 4, 5, 6, 200, 230, 452}"
      ]
     },
     "execution_count": 66,
     "metadata": {},
     "output_type": "execute_result"
    }
   ],
   "source": [
    "set1.union(set2)"
   ]
  },
  {
   "cell_type": "markdown",
   "id": "179a0fe5",
   "metadata": {},
   "source": [
    "### Intersection()"
   ]
  },
  {
   "cell_type": "code",
   "execution_count": 69,
   "id": "38dad0fa",
   "metadata": {},
   "outputs": [],
   "source": [
    "set1 = {0,1,2,3,4,5,6}\n",
    "set2 = {3,4,210,321,542}"
   ]
  },
  {
   "cell_type": "code",
   "execution_count": 71,
   "id": "5428719a",
   "metadata": {},
   "outputs": [
    {
     "data": {
      "text/plain": [
       "{3, 4}"
      ]
     },
     "execution_count": 71,
     "metadata": {},
     "output_type": "execute_result"
    }
   ],
   "source": [
    "set1.intersection(set2)                # Consists of all elements which are common in both set1 and set2"
   ]
  },
  {
   "cell_type": "markdown",
   "id": "68f521ce",
   "metadata": {},
   "source": [
    "## Dictionary"
   ]
  },
  {
   "cell_type": "markdown",
   "id": "a4a3de44",
   "metadata": {},
   "source": [
    "* In dicitionary datatype we store values and data in the form of KEY VALUES PAIR"
   ]
  },
  {
   "cell_type": "markdown",
   "id": "4e99ca14",
   "metadata": {},
   "source": [
    "## Attributes of dict"
   ]
  },
  {
   "cell_type": "markdown",
   "id": "40e6bb2f",
   "metadata": {},
   "source": [
    "* Mutable\n",
    "\n",
    "We can change, add or remove items\n",
    "\n",
    "* No Duplicates \n",
    "\n",
    "Duplicates not allow, key can not duplicates but valuesa can be\n",
    "\n",
    "* Unordered\n",
    "\n"
   ]
  },
  {
   "cell_type": "markdown",
   "id": "38bc5f09",
   "metadata": {},
   "source": [
    "key          -         Uniques\n",
    "\n",
    "Values       -         Duplicates"
   ]
  },
  {
   "cell_type": "code",
   "execution_count": 1,
   "id": "f225dabc",
   "metadata": {},
   "outputs": [],
   "source": [
    "d = {1:\"Hello\",2:\"Hi\",3:\"Hai\"}"
   ]
  },
  {
   "cell_type": "code",
   "execution_count": 2,
   "id": "5b34dfea",
   "metadata": {},
   "outputs": [
    {
     "data": {
      "text/plain": [
       "{1: 'Hello', 2: 'Hi', 3: 'Hai'}"
      ]
     },
     "execution_count": 2,
     "metadata": {},
     "output_type": "execute_result"
    }
   ],
   "source": [
    "d"
   ]
  },
  {
   "cell_type": "code",
   "execution_count": 3,
   "id": "2ae9ec46",
   "metadata": {},
   "outputs": [],
   "source": [
    "d[4] = \"Bye\""
   ]
  },
  {
   "cell_type": "code",
   "execution_count": 4,
   "id": "a696dd83",
   "metadata": {},
   "outputs": [
    {
     "data": {
      "text/plain": [
       "{1: 'Hello', 2: 'Hi', 3: 'Hai', 4: 'Bye'}"
      ]
     },
     "execution_count": 4,
     "metadata": {},
     "output_type": "execute_result"
    }
   ],
   "source": [
    "d"
   ]
  },
  {
   "cell_type": "code",
   "execution_count": 5,
   "id": "3289d696",
   "metadata": {},
   "outputs": [
    {
     "data": {
      "text/plain": [
       "dict"
      ]
     },
     "execution_count": 5,
     "metadata": {},
     "output_type": "execute_result"
    }
   ],
   "source": [
    "type(d)"
   ]
  },
  {
   "cell_type": "code",
   "execution_count": 7,
   "id": "54a9726b",
   "metadata": {},
   "outputs": [
    {
     "data": {
      "text/plain": [
       "1926470350016"
      ]
     },
     "execution_count": 7,
     "metadata": {},
     "output_type": "execute_result"
    }
   ],
   "source": [
    "id(d)"
   ]
  },
  {
   "cell_type": "code",
   "execution_count": 8,
   "id": "8d078213",
   "metadata": {},
   "outputs": [
    {
     "data": {
      "text/plain": [
       "4"
      ]
     },
     "execution_count": 8,
     "metadata": {},
     "output_type": "execute_result"
    }
   ],
   "source": [
    "len(d)"
   ]
  },
  {
   "cell_type": "markdown",
   "id": "2a8ee999",
   "metadata": {},
   "source": [
    "## Method 2"
   ]
  },
  {
   "cell_type": "code",
   "execution_count": 19,
   "id": "613d9f0a",
   "metadata": {},
   "outputs": [],
   "source": [
    "key = [1,2,3,4]"
   ]
  },
  {
   "cell_type": "code",
   "execution_count": 20,
   "id": "6a78578e",
   "metadata": {},
   "outputs": [],
   "source": [
    "val = [\"python\",\"sql\",\"stats\",\"ml\"]"
   ]
  },
  {
   "cell_type": "code",
   "execution_count": 22,
   "id": "c0c14a2a",
   "metadata": {},
   "outputs": [
    {
     "data": {
      "text/plain": [
       "{1: 'python', 2: 'sql', 3: 'stats', 4: 'ml'}"
      ]
     },
     "execution_count": 22,
     "metadata": {},
     "output_type": "execute_result"
    }
   ],
   "source": [
    "dict(zip(key,val))"
   ]
  },
  {
   "cell_type": "markdown",
   "id": "1f06780d",
   "metadata": {},
   "source": [
    "## Methods and Functions"
   ]
  },
  {
   "cell_type": "code",
   "execution_count": 23,
   "id": "c86b11dc",
   "metadata": {},
   "outputs": [],
   "source": [
    "d = {\"apple\":45,\"grapes\":30,\"mango\":50,\"banana\":20}"
   ]
  },
  {
   "cell_type": "code",
   "execution_count": 24,
   "id": "8219c7be",
   "metadata": {},
   "outputs": [
    {
     "data": {
      "text/plain": [
       "{'apple': 45, 'grapes': 30, 'mango': 50, 'banana': 20}"
      ]
     },
     "execution_count": 24,
     "metadata": {},
     "output_type": "execute_result"
    }
   ],
   "source": [
    "d"
   ]
  },
  {
   "cell_type": "code",
   "execution_count": 25,
   "id": "1eae7675",
   "metadata": {},
   "outputs": [
    {
     "data": {
      "text/plain": [
       "dict_items([('apple', 45), ('grapes', 30), ('mango', 50), ('banana', 20)])"
      ]
     },
     "execution_count": 25,
     "metadata": {},
     "output_type": "execute_result"
    }
   ],
   "source": [
    "d.items( )                # Key and values are combined                  "
   ]
  },
  {
   "cell_type": "code",
   "execution_count": 26,
   "id": "72901290",
   "metadata": {},
   "outputs": [
    {
     "data": {
      "text/plain": [
       "dict_keys(['apple', 'grapes', 'mango', 'banana'])"
      ]
     },
     "execution_count": 26,
     "metadata": {},
     "output_type": "execute_result"
    }
   ],
   "source": [
    "d.keys()"
   ]
  },
  {
   "cell_type": "code",
   "execution_count": 27,
   "id": "866e9dba",
   "metadata": {},
   "outputs": [
    {
     "data": {
      "text/plain": [
       "dict_values([45, 30, 50, 20])"
      ]
     },
     "execution_count": 27,
     "metadata": {},
     "output_type": "execute_result"
    }
   ],
   "source": [
    "d.values()"
   ]
  },
  {
   "cell_type": "code",
   "execution_count": 28,
   "id": "a3e0538b",
   "metadata": {},
   "outputs": [
    {
     "data": {
      "text/plain": [
       "30"
      ]
     },
     "execution_count": 28,
     "metadata": {},
     "output_type": "execute_result"
    }
   ],
   "source": [
    "d.pop(\"grapes\")           # Remove the select key"
   ]
  },
  {
   "cell_type": "code",
   "execution_count": 29,
   "id": "66e7e77b",
   "metadata": {},
   "outputs": [
    {
     "data": {
      "text/plain": [
       "{'apple': 45, 'mango': 50, 'banana': 20}"
      ]
     },
     "execution_count": 29,
     "metadata": {},
     "output_type": "execute_result"
    }
   ],
   "source": [
    "d"
   ]
  },
  {
   "cell_type": "code",
   "execution_count": 30,
   "id": "001b12f7",
   "metadata": {},
   "outputs": [
    {
     "data": {
      "text/plain": [
       "('banana', 20)"
      ]
     },
     "execution_count": 30,
     "metadata": {},
     "output_type": "execute_result"
    }
   ],
   "source": [
    "d.popitem()"
   ]
  },
  {
   "cell_type": "code",
   "execution_count": 31,
   "id": "22d5a31e",
   "metadata": {},
   "outputs": [],
   "source": [
    "d.update({\"kiwi\":100,\"dragon\":300})"
   ]
  },
  {
   "cell_type": "code",
   "execution_count": 32,
   "id": "e81fd432",
   "metadata": {},
   "outputs": [
    {
     "data": {
      "text/plain": [
       "{'apple': 45, 'mango': 50, 'kiwi': 100, 'dragon': 300}"
      ]
     },
     "execution_count": 32,
     "metadata": {},
     "output_type": "execute_result"
    }
   ],
   "source": [
    "d"
   ]
  },
  {
   "cell_type": "code",
   "execution_count": 34,
   "id": "5e45b3e8",
   "metadata": {},
   "outputs": [
    {
     "data": {
      "text/plain": [
       "{'ds': 9000, 'da': 9000, 'sql': 9000, 'ml': 9000}"
      ]
     },
     "execution_count": 34,
     "metadata": {},
     "output_type": "execute_result"
    }
   ],
   "source": [
    "dict.fromkeys([\"ds\",\"da\",\"sql\",\"ml\"],9000)"
   ]
  },
  {
   "cell_type": "code",
   "execution_count": null,
   "id": "3c6b83a3",
   "metadata": {},
   "outputs": [],
   "source": []
  }
 ],
 "metadata": {
  "kernelspec": {
   "display_name": "Python 3 (ipykernel)",
   "language": "python",
   "name": "python3"
  },
  "language_info": {
   "codemirror_mode": {
    "name": "ipython",
    "version": 3
   },
   "file_extension": ".py",
   "mimetype": "text/x-python",
   "name": "python",
   "nbconvert_exporter": "python",
   "pygments_lexer": "ipython3",
   "version": "3.11.4"
  }
 },
 "nbformat": 4,
 "nbformat_minor": 5
}
