{
 "cells": [
  {
   "cell_type": "markdown",
   "id": "9bd50915",
   "metadata": {},
   "source": [
    " ## String methods"
   ]
  },
  {
   "cell_type": "markdown",
   "id": "31ad178a",
   "metadata": {},
   "source": [
    "#### find()\n",
    "* It gives the index number in the string"
   ]
  },
  {
   "cell_type": "code",
   "execution_count": 1,
   "id": "596a71cb",
   "metadata": {},
   "outputs": [
    {
     "name": "stdout",
     "output_type": "stream",
     "text": [
      "Help on method_descriptor:\n",
      "\n",
      "find(...)\n",
      "    S.find(sub[, start[, end]]) -> int\n",
      "    \n",
      "    Return the lowest index in S where substring sub is found,\n",
      "    such that sub is contained within S[start:end].  Optional\n",
      "    arguments start and end are interpreted as in slice notation.\n",
      "    \n",
      "    Return -1 on failure.\n",
      "\n"
     ]
    }
   ],
   "source": [
    "help(str.find)"
   ]
  },
  {
   "cell_type": "code",
   "execution_count": 2,
   "id": "95d484d6",
   "metadata": {},
   "outputs": [],
   "source": [
    "name = \"I am data scientist\""
   ]
  },
  {
   "cell_type": "code",
   "execution_count": 4,
   "id": "23a3d93d",
   "metadata": {},
   "outputs": [
    {
     "data": {
      "text/plain": [
       "2"
      ]
     },
     "execution_count": 4,
     "metadata": {},
     "output_type": "execute_result"
    }
   ],
   "source": [
    "name.find('a')"
   ]
  },
  {
   "cell_type": "code",
   "execution_count": 5,
   "id": "4a41bc77",
   "metadata": {},
   "outputs": [
    {
     "data": {
      "text/plain": [
       "8"
      ]
     },
     "execution_count": 5,
     "metadata": {},
     "output_type": "execute_result"
    }
   ],
   "source": [
    "name.find('a',7)"
   ]
  },
  {
   "cell_type": "markdown",
   "id": "b93de17e",
   "metadata": {},
   "source": [
    "#### rfind()\n",
    "* It gives the right side index number in string"
   ]
  },
  {
   "cell_type": "code",
   "execution_count": 7,
   "id": "f8bd6e26",
   "metadata": {},
   "outputs": [
    {
     "name": "stdout",
     "output_type": "stream",
     "text": [
      "Help on method_descriptor:\n",
      "\n",
      "rfind(...)\n",
      "    S.rfind(sub[, start[, end]]) -> int\n",
      "    \n",
      "    Return the highest index in S where substring sub is found,\n",
      "    such that sub is contained within S[start:end].  Optional\n",
      "    arguments start and end are interpreted as in slice notation.\n",
      "    \n",
      "    Return -1 on failure.\n",
      "\n"
     ]
    }
   ],
   "source": [
    "help(str.rfind)"
   ]
  },
  {
   "cell_type": "code",
   "execution_count": 8,
   "id": "c4336604",
   "metadata": {},
   "outputs": [],
   "source": [
    "name = \"I am data scientist\""
   ]
  },
  {
   "cell_type": "code",
   "execution_count": 9,
   "id": "0b5b40de",
   "metadata": {},
   "outputs": [
    {
     "data": {
      "text/plain": [
       "8"
      ]
     },
     "execution_count": 9,
     "metadata": {},
     "output_type": "execute_result"
    }
   ],
   "source": [
    "name.rfind('a')"
   ]
  },
  {
   "cell_type": "code",
   "execution_count": 10,
   "id": "a9d85a20",
   "metadata": {},
   "outputs": [
    {
     "data": {
      "text/plain": [
       "2"
      ]
     },
     "execution_count": 10,
     "metadata": {},
     "output_type": "execute_result"
    }
   ],
   "source": [
    "name.rfind('a', 2, 4)"
   ]
  },
  {
   "cell_type": "markdown",
   "id": "f5b3bbbd",
   "metadata": {},
   "source": [
    "#### count()\n",
    "* It gives the frequency occurancy of a particular value"
   ]
  },
  {
   "cell_type": "code",
   "execution_count": 13,
   "id": "a9c2f7c6",
   "metadata": {},
   "outputs": [],
   "source": [
    "string = \"Malayalam\""
   ]
  },
  {
   "cell_type": "code",
   "execution_count": 14,
   "id": "94655f5e",
   "metadata": {},
   "outputs": [
    {
     "data": {
      "text/plain": [
       "1"
      ]
     },
     "execution_count": 14,
     "metadata": {},
     "output_type": "execute_result"
    }
   ],
   "source": [
    "string.count('y')"
   ]
  },
  {
   "cell_type": "code",
   "execution_count": 15,
   "id": "c11fc946",
   "metadata": {},
   "outputs": [
    {
     "data": {
      "text/plain": [
       "4"
      ]
     },
     "execution_count": 15,
     "metadata": {},
     "output_type": "execute_result"
    }
   ],
   "source": [
    "string.count('a')"
   ]
  },
  {
   "cell_type": "markdown",
   "id": "4bf4e1eb",
   "metadata": {},
   "source": [
    "#### index()\n",
    "* It gives the index number in the string"
   ]
  },
  {
   "cell_type": "code",
   "execution_count": 16,
   "id": "a8875752",
   "metadata": {},
   "outputs": [
    {
     "name": "stdout",
     "output_type": "stream",
     "text": [
      "Help on method_descriptor:\n",
      "\n",
      "index(...)\n",
      "    S.index(sub[, start[, end]]) -> int\n",
      "    \n",
      "    Return the lowest index in S where substring sub is found,\n",
      "    such that sub is contained within S[start:end].  Optional\n",
      "    arguments start and end are interpreted as in slice notation.\n",
      "    \n",
      "    Raises ValueError when the substring is not found.\n",
      "\n"
     ]
    }
   ],
   "source": [
    "help(str.index)"
   ]
  },
  {
   "cell_type": "code",
   "execution_count": 17,
   "id": "be232d89",
   "metadata": {},
   "outputs": [],
   "source": [
    "name = \"malayalam\""
   ]
  },
  {
   "cell_type": "code",
   "execution_count": 18,
   "id": "69a054df",
   "metadata": {},
   "outputs": [
    {
     "data": {
      "text/plain": [
       "1"
      ]
     },
     "execution_count": 18,
     "metadata": {},
     "output_type": "execute_result"
    }
   ],
   "source": [
    "name.index('a')"
   ]
  },
  {
   "cell_type": "code",
   "execution_count": 19,
   "id": "a47ed490",
   "metadata": {},
   "outputs": [
    {
     "data": {
      "text/plain": [
       "4"
      ]
     },
     "execution_count": 19,
     "metadata": {},
     "output_type": "execute_result"
    }
   ],
   "source": [
    "name.index('y')"
   ]
  },
  {
   "cell_type": "code",
   "execution_count": 20,
   "id": "e482ae23",
   "metadata": {},
   "outputs": [
    {
     "data": {
      "text/plain": [
       "(1, 1)"
      ]
     },
     "execution_count": 20,
     "metadata": {},
     "output_type": "execute_result"
    }
   ],
   "source": [
    "name.find('a'),name.index('a')"
   ]
  },
  {
   "cell_type": "code",
   "execution_count": 22,
   "id": "9bfbf914",
   "metadata": {},
   "outputs": [
    {
     "ename": "ValueError",
     "evalue": "substring not found",
     "output_type": "error",
     "traceback": [
      "\u001b[1;31m---------------------------------------------------------------------------\u001b[0m",
      "\u001b[1;31mValueError\u001b[0m                                Traceback (most recent call last)",
      "Cell \u001b[1;32mIn[22], line 2\u001b[0m\n\u001b[0;32m      1\u001b[0m name\u001b[38;5;241m.\u001b[39mfind(\u001b[38;5;124m'\u001b[39m\u001b[38;5;124mz\u001b[39m\u001b[38;5;124m'\u001b[39m)\n\u001b[1;32m----> 2\u001b[0m name\u001b[38;5;241m.\u001b[39mindex(\u001b[38;5;124m'\u001b[39m\u001b[38;5;124mz\u001b[39m\u001b[38;5;124m'\u001b[39m)\n",
      "\u001b[1;31mValueError\u001b[0m: substring not found"
     ]
    }
   ],
   "source": [
    "name.find('z')\n",
    "name.index('z')           # uncomment to see the error"
   ]
  },
  {
   "cell_type": "markdown",
   "id": "46998c18",
   "metadata": {},
   "source": [
    "#### rindex()\n",
    "* It gives the right side index number in the string"
   ]
  },
  {
   "cell_type": "code",
   "execution_count": 24,
   "id": "a0abc045",
   "metadata": {},
   "outputs": [
    {
     "name": "stdout",
     "output_type": "stream",
     "text": [
      "Help on method_descriptor:\n",
      "\n",
      "rindex(...)\n",
      "    S.rindex(sub[, start[, end]]) -> int\n",
      "    \n",
      "    Return the highest index in S where substring sub is found,\n",
      "    such that sub is contained within S[start:end].  Optional\n",
      "    arguments start and end are interpreted as in slice notation.\n",
      "    \n",
      "    Raises ValueError when the substring is not found.\n",
      "\n"
     ]
    }
   ],
   "source": [
    "help(str.rindex)"
   ]
  },
  {
   "cell_type": "code",
   "execution_count": 25,
   "id": "62673045",
   "metadata": {},
   "outputs": [],
   "source": [
    "name = \"malayalam\""
   ]
  },
  {
   "cell_type": "code",
   "execution_count": 26,
   "id": "1a35ed22",
   "metadata": {},
   "outputs": [
    {
     "data": {
      "text/plain": [
       "7"
      ]
     },
     "execution_count": 26,
     "metadata": {},
     "output_type": "execute_result"
    }
   ],
   "source": [
    "name.rindex('a')"
   ]
  },
  {
   "cell_type": "markdown",
   "id": "bd3fd1b4",
   "metadata": {},
   "source": [
    "#### replace()\n",
    "* It replace the word"
   ]
  },
  {
   "cell_type": "code",
   "execution_count": 27,
   "id": "53b49469",
   "metadata": {},
   "outputs": [],
   "source": [
    "string = \"I am python programmer\""
   ]
  },
  {
   "cell_type": "code",
   "execution_count": 28,
   "id": "b4c37d9d",
   "metadata": {},
   "outputs": [
    {
     "data": {
      "text/plain": [
       "'I am c programmer'"
      ]
     },
     "execution_count": 28,
     "metadata": {},
     "output_type": "execute_result"
    }
   ],
   "source": [
    "string.replace('python', 'c')"
   ]
  },
  {
   "cell_type": "code",
   "execution_count": 29,
   "id": "f5fb40e7",
   "metadata": {},
   "outputs": [],
   "source": [
    "m = \"malayalam\""
   ]
  },
  {
   "cell_type": "code",
   "execution_count": 31,
   "id": "d8638a38",
   "metadata": {},
   "outputs": [
    {
     "data": {
      "text/plain": [
       "'MalayalaM'"
      ]
     },
     "execution_count": 31,
     "metadata": {},
     "output_type": "execute_result"
    }
   ],
   "source": [
    "m.replace('m', 'M')"
   ]
  },
  {
   "cell_type": "code",
   "execution_count": 32,
   "id": "9544d8d4",
   "metadata": {},
   "outputs": [
    {
     "data": {
      "text/plain": [
       "'mAlAyalam'"
      ]
     },
     "execution_count": 32,
     "metadata": {},
     "output_type": "execute_result"
    }
   ],
   "source": [
    "m.replace('a', 'A', 2)"
   ]
  },
  {
   "cell_type": "markdown",
   "id": "3ef93d29",
   "metadata": {},
   "source": [
    "#### split()\n",
    "* It split the word"
   ]
  },
  {
   "cell_type": "code",
   "execution_count": 33,
   "id": "f8ffdade",
   "metadata": {},
   "outputs": [
    {
     "name": "stdout",
     "output_type": "stream",
     "text": [
      "Help on method_descriptor:\n",
      "\n",
      "split(self, /, sep=None, maxsplit=-1)\n",
      "    Return a list of the substrings in the string, using sep as the separator string.\n",
      "    \n",
      "      sep\n",
      "        The separator used to split the string.\n",
      "    \n",
      "        When set to None (the default value), will split on any whitespace\n",
      "        character (including \\\\n \\\\r \\\\t \\\\f and spaces) and will discard\n",
      "        empty strings from the result.\n",
      "      maxsplit\n",
      "        Maximum number of splits (starting from the left).\n",
      "        -1 (the default value) means no limit.\n",
      "    \n",
      "    Note, str.split() is mainly useful for data that has been intentionally\n",
      "    delimited.  With natural text that includes punctuation, consider using\n",
      "    the regular expression module.\n",
      "\n"
     ]
    }
   ],
   "source": [
    "help(str.split)"
   ]
  },
  {
   "cell_type": "code",
   "execution_count": 34,
   "id": "3ed2d055",
   "metadata": {},
   "outputs": [],
   "source": [
    "string = \"I am data scientist\""
   ]
  },
  {
   "cell_type": "code",
   "execution_count": 35,
   "id": "b66ab5a9",
   "metadata": {},
   "outputs": [
    {
     "data": {
      "text/plain": [
       "['I', 'am', 'data', 'scientist']"
      ]
     },
     "execution_count": 35,
     "metadata": {},
     "output_type": "execute_result"
    }
   ],
   "source": [
    "string.split()"
   ]
  },
  {
   "cell_type": "code",
   "execution_count": 38,
   "id": "2751ea76",
   "metadata": {},
   "outputs": [
    {
     "data": {
      "text/plain": [
       "['I', 'am data scientist']"
      ]
     },
     "execution_count": 38,
     "metadata": {},
     "output_type": "execute_result"
    }
   ],
   "source": [
    "string.split(' ', 1)"
   ]
  },
  {
   "cell_type": "code",
   "execution_count": 39,
   "id": "c3845e97",
   "metadata": {},
   "outputs": [
    {
     "data": {
      "text/plain": [
       "['I', 'am', 'data scientist']"
      ]
     },
     "execution_count": 39,
     "metadata": {},
     "output_type": "execute_result"
    }
   ],
   "source": [
    "string.split(' ', 2)"
   ]
  },
  {
   "cell_type": "markdown",
   "id": "16fa1970",
   "metadata": {},
   "source": [
    "#### rsplit()\n",
    "* It split the right side words"
   ]
  },
  {
   "cell_type": "code",
   "execution_count": 40,
   "id": "a83532f8",
   "metadata": {},
   "outputs": [
    {
     "name": "stdout",
     "output_type": "stream",
     "text": [
      "Help on method_descriptor:\n",
      "\n",
      "rsplit(self, /, sep=None, maxsplit=-1)\n",
      "    Return a list of the substrings in the string, using sep as the separator string.\n",
      "    \n",
      "      sep\n",
      "        The separator used to split the string.\n",
      "    \n",
      "        When set to None (the default value), will split on any whitespace\n",
      "        character (including \\\\n \\\\r \\\\t \\\\f and spaces) and will discard\n",
      "        empty strings from the result.\n",
      "      maxsplit\n",
      "        Maximum number of splits (starting from the left).\n",
      "        -1 (the default value) means no limit.\n",
      "    \n",
      "    Splitting starts at the end of the string and works to the front.\n",
      "\n"
     ]
    }
   ],
   "source": [
    "help(str.rsplit)"
   ]
  },
  {
   "cell_type": "code",
   "execution_count": 41,
   "id": "89a8077b",
   "metadata": {},
   "outputs": [],
   "source": [
    "string = \"I am data scientist\""
   ]
  },
  {
   "cell_type": "code",
   "execution_count": 42,
   "id": "eb5fcf36",
   "metadata": {},
   "outputs": [
    {
     "data": {
      "text/plain": [
       "['I am', 'data', 'scientist']"
      ]
     },
     "execution_count": 42,
     "metadata": {},
     "output_type": "execute_result"
    }
   ],
   "source": [
    "string.rsplit(' ', 2)"
   ]
  },
  {
   "cell_type": "code",
   "execution_count": 43,
   "id": "c2bd45a6",
   "metadata": {},
   "outputs": [
    {
     "data": {
      "text/plain": [
       "['I ', ' data scientist']"
      ]
     },
     "execution_count": 43,
     "metadata": {},
     "output_type": "execute_result"
    }
   ],
   "source": [
    "string.rsplit('am')"
   ]
  },
  {
   "cell_type": "markdown",
   "id": "cea93f89",
   "metadata": {},
   "source": [
    "#### partition()\n",
    "* It divided into 3 partitions"
   ]
  },
  {
   "cell_type": "code",
   "execution_count": 44,
   "id": "9067e5d7",
   "metadata": {},
   "outputs": [
    {
     "name": "stdout",
     "output_type": "stream",
     "text": [
      "Help on method_descriptor:\n",
      "\n",
      "partition(self, sep, /)\n",
      "    Partition the string into three parts using the given separator.\n",
      "    \n",
      "    This will search for the separator in the string.  If the separator is found,\n",
      "    returns a 3-tuple containing the part before the separator, the separator\n",
      "    itself, and the part after it.\n",
      "    \n",
      "    If the separator is not found, returns a 3-tuple containing the original string\n",
      "    and two empty strings.\n",
      "\n"
     ]
    }
   ],
   "source": [
    "help(str.partition)"
   ]
  },
  {
   "cell_type": "code",
   "execution_count": 45,
   "id": "281ba4ab",
   "metadata": {},
   "outputs": [],
   "source": [
    "m = \"malayalam\""
   ]
  },
  {
   "cell_type": "code",
   "execution_count": 46,
   "id": "1bcf9578",
   "metadata": {},
   "outputs": [
    {
     "data": {
      "text/plain": [
       "('m', 'a', 'layalam')"
      ]
     },
     "execution_count": 46,
     "metadata": {},
     "output_type": "execute_result"
    }
   ],
   "source": [
    "m.partition('a')"
   ]
  },
  {
   "cell_type": "code",
   "execution_count": 47,
   "id": "8687c910",
   "metadata": {},
   "outputs": [
    {
     "data": {
      "text/plain": [
       "(('m', 'a', 'layalam'), ('mala', 'y', 'alam'))"
      ]
     },
     "execution_count": 47,
     "metadata": {},
     "output_type": "execute_result"
    }
   ],
   "source": [
    "m.partition('a'),m.partition('y')"
   ]
  },
  {
   "cell_type": "code",
   "execution_count": 48,
   "id": "8a6b1bec",
   "metadata": {},
   "outputs": [],
   "source": [
    "name = \"I am data scientist\""
   ]
  }
 ],
 "metadata": {
  "kernelspec": {
   "display_name": "Python 3 (ipykernel)",
   "language": "python",
   "name": "python3"
  },
  "language_info": {
   "codemirror_mode": {
    "name": "ipython",
    "version": 3
   },
   "file_extension": ".py",
   "mimetype": "text/x-python",
   "name": "python",
   "nbconvert_exporter": "python",
   "pygments_lexer": "ipython3",
   "version": "3.11.4"
  }
 },
 "nbformat": 4,
 "nbformat_minor": 5
}
