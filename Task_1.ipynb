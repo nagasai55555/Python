{
 "cells": [
  {
   "cell_type": "markdown",
   "id": "ac2229a1",
   "metadata": {},
   "source": [
    "1. Write a Python program that asks the user for their age and prints \"You are an adult\" if the age is 18 or older, otherwise prints \"You are a minor'.\n"
   ]
  },
  {
   "cell_type": "code",
   "execution_count": 10,
   "id": "1463fc0e",
   "metadata": {},
   "outputs": [
    {
     "name": "stdout",
     "output_type": "stream",
     "text": [
      "enter your age:24\n",
      "you are adult\n"
     ]
    }
   ],
   "source": [
    " age = int(input(\"enter your age:\"))\n",
    "if age < 18 :\n",
    "     print(\"you are minor\")\n",
    "else :\n",
    "     print(\"you are adult\")"
   ]
  },
  {
   "cell_type": "markdown",
   "id": "8fb8ab27",
   "metadata": {},
   "source": [
    "2. Write a program that takes a numerical grade (out of 100) as input and prints the corresponding letter grade according to the following scale:\n",
    "\n",
    " 90-100: A\n",
    " \n",
    " 80-89: B\n",
    " \n",
    " 70-79: C\n",
    " \n",
    " 60-69: D\n",
    " \n",
    " Below 60: F\n"
   ]
  },
  {
   "cell_type": "code",
   "execution_count": 11,
   "id": "fc7585b7",
   "metadata": {},
   "outputs": [
    {
     "name": "stdout",
     "output_type": "stream",
     "text": [
      "you are marks:95\n",
      "A grade\n"
     ]
    }
   ],
   "source": [
    "marks = int(input(\"you are marks:\"))\n",
    "if marks in range(90,100):\n",
    "    print('A grade')\n",
    "elif marks in range(80,90):\n",
    "    print('B grade')\n",
    "elif marks in range(70,80):\n",
    "    print('c grade')\n",
    "elif marks in range(60,70):\n",
    "    print('f');\n",
    "else : \n",
    "    print('enter valid marks')"
   ]
  },
  {
   "cell_type": "markdown",
   "id": "68e27d5b",
   "metadata": {},
   "source": [
    "3. Accept any city from the user and display the momentum of the city \n",
    "\n",
    "   Hyderabad  : “charminar”\n",
    "\n",
    "   “Delhi”         : “red fort\n",
    "\n",
    "   “Agra           : Taj mahal\n",
    "\n",
    "   If the city name is not given correctly, give him a warning message."
   ]
  },
  {
   "cell_type": "code",
   "execution_count": 12,
   "id": "69250b71",
   "metadata": {},
   "outputs": [
    {
     "name": "stdout",
     "output_type": "stream",
     "text": [
      "you are in which city :Hyderabad\n",
      "charminar\n"
     ]
    }
   ],
   "source": [
    "city = (input(\"you are in which city :\"))\n",
    "if city == \"Hyderabad\":\n",
    "    print(\"charminar\")\n",
    "elif city == \"Delhi\":\n",
    "    print(\"red fort\")\n",
    "elif city == \"Agra\":\n",
    "    print(\"Taj mahal\")\n",
    "else:\n",
    "    print(\"you enter wrong name\")"
   ]
  },
  {
   "cell_type": "markdown",
   "id": "c4fd1add",
   "metadata": {},
   "source": [
    "4. Write a program that asks the user for a number and prints \"In range\" if the number is between 10 and 20 (inclusive), and \"Out of range\" otherwise.\n"
   ]
  },
  {
   "cell_type": "code",
   "execution_count": 13,
   "id": "81fe0125",
   "metadata": {},
   "outputs": [
    {
     "name": "stdout",
     "output_type": "stream",
     "text": [
      "enter any number24\n",
      "out of range\n"
     ]
    }
   ],
   "source": [
    "number = int(input(\"enter any number\"))\n",
    "if number in range(10,20):\n",
    "    print(\"in range\")\n",
    "else:\n",
    "    print(\"out of range\")"
   ]
  },
  {
   "cell_type": "markdown",
   "id": "15aa0e95",
   "metadata": {},
   "source": [
    "5. Write a program to check whether a person is eligible for voting or not  (voting age>=18).\n"
   ]
  },
  {
   "cell_type": "code",
   "execution_count": 14,
   "id": "0c042b8c",
   "metadata": {},
   "outputs": [
    {
     "name": "stdout",
     "output_type": "stream",
     "text": [
      "enter you are age24\n",
      "you are eligible to vote\n"
     ]
    }
   ],
   "source": [
    "age = int(input(\"enter you are age\"))\n",
    "if age>=18:\n",
    "    print(\"you are eligible to vote\")\n",
    "else :\n",
    "    print(\"you are not eligible to vote\")"
   ]
  },
  {
   "cell_type": "markdown",
   "id": "01730479",
   "metadata": {},
   "source": [
    "6. Write a program that asks the user for an integer and prints whether it's even or odd.\n"
   ]
  },
  {
   "cell_type": "code",
   "execution_count": 20,
   "id": "78175b22",
   "metadata": {},
   "outputs": [
    {
     "name": "stdout",
     "output_type": "stream",
     "text": [
      "enter the num5\n",
      "hard\n"
     ]
    }
   ],
   "source": [
    "num = int(input(\"enter the num\"))\n",
    "if num % 2==0:\n",
    "    print(\"even\")\n",
    "else:\n",
    "    print(\"hard\")\n"
   ]
  },
  {
   "cell_type": "markdown",
   "id": "546d816f",
   "metadata": {},
   "source": [
    "7. A company decided to give a bonus of 5% to employees if his/her year of service is more than 5 years.Ask user for their salary and year of service and print the net bonus amount.\n"
   ]
  },
  {
   "cell_type": "code",
   "execution_count": 26,
   "id": "427e2b63",
   "metadata": {},
   "outputs": [
    {
     "name": "stdout",
     "output_type": "stream",
     "text": [
      "enter your salary:250000\n",
      "enter years of service:9\n",
      "eligible 1250.0\n"
     ]
    }
   ],
   "source": [
    "salary = float(input(\"enter your salary:\"))\n",
    "years_of_service = int(input(\"enter years of service:\"))\n",
    "if years_of_service > 5:\n",
    "    bonus_percentage = 0.5\n",
    "    bonus_amount = (bonus_percentage / 100) * salary\n",
    "    print(\"eligible\",bonus_amount)\n",
    "else :\n",
    "    bonus_amount = 0\n",
    "    print(\"not eligible\")"
   ]
  },
  {
   "cell_type": "markdown",
   "id": "bfaeadda",
   "metadata": {},
   "source": [
    "8. Take values of length and breadth of a rectangle from the user and check if it is square or not.\n"
   ]
  },
  {
   "cell_type": "code",
   "execution_count": 28,
   "id": "01c30157",
   "metadata": {},
   "outputs": [
    {
     "name": "stdout",
     "output_type": "stream",
     "text": [
      "Enter the length of the rectangle: 55\n",
      "Enter the breadth of the rectangle: 55\n",
      "it's a square\n"
     ]
    }
   ],
   "source": [
    "length = float(input(\"Enter the length of the rectangle: \"))\n",
    "breadth = float(input(\"Enter the breadth of the rectangle: \"))\n",
    "if length == breadth:\n",
    "    print(\"it's a square\")\n",
    "else:\n",
    "    print(\"it's not a square\")"
   ]
  },
  {
   "cell_type": "markdown",
   "id": "327187a9",
   "metadata": {},
   "source": [
    "9. Write a program that asks the user for a number (1-7) and prints the corresponding day of the week.\n"
   ]
  },
  {
   "cell_type": "code",
   "execution_count": 34,
   "id": "14dd347e",
   "metadata": {},
   "outputs": [
    {
     "name": "stdout",
     "output_type": "stream",
     "text": [
      "Enter a number between 1 and 7: 5\n",
      "Friday\n"
     ]
    }
   ],
   "source": [
    "day_number = int(input(\"Enter a number between 1 and 7: \"))\n",
    "\n",
    "if day_number == 1:\n",
    "    print(\"Monday\")\n",
    "elif day_number == 2:\n",
    "    print(\"Tuesday\")\n",
    "elif day_number == 3:\n",
    "    print(\"Wednesday\")\n",
    "elif day_number == 4:\n",
    "    print(\"Thursday\")\n",
    "elif day_number == 5:\n",
    "    print(\"Friday\")\n",
    "elif day_number == 6:\n",
    "    print(\"Saturday\")\n",
    "elif day_number == 7:\n",
    "    print(\"Sunday\")\n",
    "else:\n",
    "    print(\"Invalid input. Please enter a number between 1 and 7.\")\n"
   ]
  },
  {
   "cell_type": "code",
   "execution_count": null,
   "id": "abc69793",
   "metadata": {},
   "outputs": [],
   "source": []
  }
 ],
 "metadata": {
  "kernelspec": {
   "display_name": "Python 3 (ipykernel)",
   "language": "python",
   "name": "python3"
  },
  "language_info": {
   "codemirror_mode": {
    "name": "ipython",
    "version": 3
   },
   "file_extension": ".py",
   "mimetype": "text/x-python",
   "name": "python",
   "nbconvert_exporter": "python",
   "pygments_lexer": "ipython3",
   "version": "3.11.4"
  }
 },
 "nbformat": 4,
 "nbformat_minor": 5
}
