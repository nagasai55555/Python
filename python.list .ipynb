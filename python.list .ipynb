{
 "cells": [
  {
   "cell_type": "markdown",
   "id": "c6fe91aa",
   "metadata": {},
   "source": [
    "# Collection datatypes"
   ]
  },
  {
   "cell_type": "markdown",
   "id": "774701d9",
   "metadata": {},
   "source": [
    "* List\n",
    "* Tuple\n",
    "* Set\n",
    "* Dictionary\n",
    "* Frozen sets\n",
    "\n",
    "* we use Integer,String,Float in collection Datatypes\n",
    "* But ATTRIBUTES are different"
   ]
  },
  {
   "cell_type": "markdown",
   "id": "1cb51797",
   "metadata": {},
   "source": [
    "## List"
   ]
  },
  {
   "cell_type": "markdown",
   "id": "1d26a7e6",
   "metadata": {},
   "source": [
    "In list datatype we store multiple values\n",
    "\n",
    "List datatype represented in square brackets [ ]"
   ]
  },
  {
   "cell_type": "markdown",
   "id": "accf8b5e",
   "metadata": {},
   "source": [
    "### Creating a list of values"
   ]
  },
  {
   "cell_type": "code",
   "execution_count": 5,
   "id": "3e9e63b4",
   "metadata": {},
   "outputs": [],
   "source": [
    "list = [1,2,3,4]"
   ]
  },
  {
   "cell_type": "markdown",
   "id": "b62a7bbe",
   "metadata": {},
   "source": [
    "### Basic function"
   ]
  },
  {
   "cell_type": "code",
   "execution_count": 6,
   "id": "1cb1a75d",
   "metadata": {},
   "outputs": [
    {
     "name": "stdout",
     "output_type": "stream",
     "text": [
      "[1, 2, 3, 4]\n"
     ]
    }
   ],
   "source": [
    "print(list)"
   ]
  },
  {
   "cell_type": "code",
   "execution_count": 7,
   "id": "1a8654f3",
   "metadata": {},
   "outputs": [
    {
     "data": {
      "text/plain": [
       "list"
      ]
     },
     "execution_count": 7,
     "metadata": {},
     "output_type": "execute_result"
    }
   ],
   "source": [
    "type(list)"
   ]
  },
  {
   "cell_type": "code",
   "execution_count": 8,
   "id": "3d2fbb2e",
   "metadata": {},
   "outputs": [
    {
     "data": {
      "text/plain": [
       "2110787075136"
      ]
     },
     "execution_count": 8,
     "metadata": {},
     "output_type": "execute_result"
    }
   ],
   "source": [
    "id(list)"
   ]
  },
  {
   "cell_type": "code",
   "execution_count": 9,
   "id": "2ff65921",
   "metadata": {},
   "outputs": [
    {
     "data": {
      "text/plain": [
       "4"
      ]
     },
     "execution_count": 9,
     "metadata": {},
     "output_type": "execute_result"
    }
   ],
   "source": [
    "len(list)"
   ]
  },
  {
   "cell_type": "markdown",
   "id": "918f47b8",
   "metadata": {},
   "source": [
    "### Create an empty list"
   ]
  },
  {
   "cell_type": "code",
   "execution_count": 10,
   "id": "e60ccd46",
   "metadata": {},
   "outputs": [],
   "source": [
    "val = []"
   ]
  },
  {
   "cell_type": "code",
   "execution_count": 12,
   "id": "2b51fd2b",
   "metadata": {},
   "outputs": [
    {
     "data": {
      "text/plain": [
       "0"
      ]
     },
     "execution_count": 12,
     "metadata": {},
     "output_type": "execute_result"
    }
   ],
   "source": [
    "len(val)"
   ]
  },
  {
   "cell_type": "code",
   "execution_count": 13,
   "id": "7bec64d5",
   "metadata": {},
   "outputs": [],
   "source": [
    "city = [\"kkd\",\"vizag\",\"mumbai\",\"hyd\"]"
   ]
  },
  {
   "cell_type": "code",
   "execution_count": 19,
   "id": "3b29c1ba",
   "metadata": {},
   "outputs": [
    {
     "name": "stdout",
     "output_type": "stream",
     "text": [
      "['kkd', 'vizag', 'mumbai', 'hyd']\n"
     ]
    }
   ],
   "source": [
    "print(city)"
   ]
  },
  {
   "cell_type": "code",
   "execution_count": 17,
   "id": "5b61d135",
   "metadata": {},
   "outputs": [],
   "source": [
    "programmes = [\"java\",\"sql\",\"c\",\"python\"]"
   ]
  },
  {
   "cell_type": "code",
   "execution_count": 20,
   "id": "5a82f57a",
   "metadata": {},
   "outputs": [
    {
     "name": "stdout",
     "output_type": "stream",
     "text": [
      "['java', 'sql', 'c', 'python']\n"
     ]
    }
   ],
   "source": [
    "print(programmes)"
   ]
  },
  {
   "cell_type": "code",
   "execution_count": 21,
   "id": "ad226cc9",
   "metadata": {},
   "outputs": [
    {
     "data": {
      "text/plain": [
       "list"
      ]
     },
     "execution_count": 21,
     "metadata": {},
     "output_type": "execute_result"
    }
   ],
   "source": [
    "type(city)"
   ]
  },
  {
   "cell_type": "code",
   "execution_count": 22,
   "id": "ffb953ca",
   "metadata": {},
   "outputs": [
    {
     "data": {
      "text/plain": [
       "2110800107392"
      ]
     },
     "execution_count": 22,
     "metadata": {},
     "output_type": "execute_result"
    }
   ],
   "source": [
    "id(city)"
   ]
  },
  {
   "cell_type": "code",
   "execution_count": 23,
   "id": "c0bbec1d",
   "metadata": {},
   "outputs": [
    {
     "data": {
      "text/plain": [
       "4"
      ]
     },
     "execution_count": 23,
     "metadata": {},
     "output_type": "execute_result"
    }
   ],
   "source": [
    "len(city)"
   ]
  },
  {
   "cell_type": "markdown",
   "id": "9a103bc9",
   "metadata": {},
   "source": [
    "# Atributes of list"
   ]
  },
  {
   "cell_type": "markdown",
   "id": "08c8bc41",
   "metadata": {},
   "source": [
    "* M = Mutable\n",
    "\n",
    "\n",
    "* O = Ordered\n",
    "\n",
    "\n",
    "* D = Duplicate\n",
    "\n",
    "\n",
    "* I = Index"
   ]
  },
  {
   "cell_type": "markdown",
   "id": "d97627ff",
   "metadata": {},
   "source": [
    "## Mutable"
   ]
  },
  {
   "cell_type": "markdown",
   "id": "b1dfcda7",
   "metadata": {},
   "source": [
    "* Mutable means change the orginal value`"
   ]
  },
  {
   "cell_type": "code",
   "execution_count": 24,
   "id": "718a435f",
   "metadata": {},
   "outputs": [],
   "source": [
    "a = 5"
   ]
  },
  {
   "cell_type": "code",
   "execution_count": 26,
   "id": "dcde1787",
   "metadata": {},
   "outputs": [
    {
     "data": {
      "text/plain": [
       "10"
      ]
     },
     "execution_count": 26,
     "metadata": {},
     "output_type": "execute_result"
    }
   ],
   "source": [
    "a + 5"
   ]
  },
  {
   "cell_type": "code",
   "execution_count": 27,
   "id": "f5ea5c2c",
   "metadata": {},
   "outputs": [
    {
     "data": {
      "text/plain": [
       "5"
      ]
     },
     "execution_count": 27,
     "metadata": {},
     "output_type": "execute_result"
    }
   ],
   "source": [
    "a"
   ]
  },
  {
   "cell_type": "code",
   "execution_count": 28,
   "id": "fb65a383",
   "metadata": {},
   "outputs": [],
   "source": [
    "b = \"Hello\""
   ]
  },
  {
   "cell_type": "code",
   "execution_count": 29,
   "id": "8dbc06e6",
   "metadata": {},
   "outputs": [
    {
     "data": {
      "text/plain": [
       "'Helloworld'"
      ]
     },
     "execution_count": 29,
     "metadata": {},
     "output_type": "execute_result"
    }
   ],
   "source": [
    "b + \"world\""
   ]
  },
  {
   "cell_type": "code",
   "execution_count": 30,
   "id": "0102fb92",
   "metadata": {},
   "outputs": [
    {
     "data": {
      "text/plain": [
       "'Hello'"
      ]
     },
     "execution_count": 30,
     "metadata": {},
     "output_type": "execute_result"
    }
   ],
   "source": [
    "b"
   ]
  },
  {
   "cell_type": "code",
   "execution_count": 35,
   "id": "480e3c7e",
   "metadata": {},
   "outputs": [],
   "source": [
    "c = 2.5"
   ]
  },
  {
   "cell_type": "code",
   "execution_count": 36,
   "id": "bac3943e",
   "metadata": {},
   "outputs": [
    {
     "data": {
      "text/plain": [
       "6.0"
      ]
     },
     "execution_count": 36,
     "metadata": {},
     "output_type": "execute_result"
    }
   ],
   "source": [
    "c + 3.5"
   ]
  },
  {
   "cell_type": "code",
   "execution_count": 37,
   "id": "26accb44",
   "metadata": {},
   "outputs": [
    {
     "data": {
      "text/plain": [
       "2.5"
      ]
     },
     "execution_count": 37,
     "metadata": {},
     "output_type": "execute_result"
    }
   ],
   "source": [
    "c"
   ]
  },
  {
   "cell_type": "code",
   "execution_count": 42,
   "id": "051e83f6",
   "metadata": {},
   "outputs": [],
   "source": [
    "list = [1,2,\"Hello\",True]"
   ]
  },
  {
   "cell_type": "code",
   "execution_count": 44,
   "id": "74f858d3",
   "metadata": {},
   "outputs": [],
   "source": [
    "list.append(5)"
   ]
  },
  {
   "cell_type": "code",
   "execution_count": 45,
   "id": "d9875199",
   "metadata": {},
   "outputs": [
    {
     "data": {
      "text/plain": [
       "[1, 2, 'Hello', True, 5]"
      ]
     },
     "execution_count": 45,
     "metadata": {},
     "output_type": "execute_result"
    }
   ],
   "source": [
    "list"
   ]
  },
  {
   "cell_type": "markdown",
   "id": "05ea39a2",
   "metadata": {},
   "source": [
    "## Ordered"
   ]
  },
  {
   "cell_type": "markdown",
   "id": "ebd044e0",
   "metadata": {},
   "source": [
    "* Follow some sequency or numbering"
   ]
  },
  {
   "cell_type": "code",
   "execution_count": 1,
   "id": "fbf3b02c",
   "metadata": {},
   "outputs": [],
   "source": [
    "list = [1,2,3,4,6]"
   ]
  },
  {
   "cell_type": "code",
   "execution_count": 3,
   "id": "b1ef2e84",
   "metadata": {},
   "outputs": [
    {
     "data": {
      "text/plain": [
       "4"
      ]
     },
     "execution_count": 3,
     "metadata": {},
     "output_type": "execute_result"
    }
   ],
   "source": [
    "list[3]"
   ]
  },
  {
   "cell_type": "code",
   "execution_count": 4,
   "id": "6488d2ec",
   "metadata": {},
   "outputs": [],
   "source": [
    "list =[1,2,\"Hello\",5.5,2+3j]"
   ]
  },
  {
   "cell_type": "code",
   "execution_count": 5,
   "id": "7858efd8",
   "metadata": {},
   "outputs": [
    {
     "data": {
      "text/plain": [
       "[2, 'Hello', 5.5, (2+3j)]"
      ]
     },
     "execution_count": 5,
     "metadata": {},
     "output_type": "execute_result"
    }
   ],
   "source": [
    "list[1:5]"
   ]
  },
  {
   "cell_type": "code",
   "execution_count": 6,
   "id": "1c1737c5",
   "metadata": {},
   "outputs": [
    {
     "data": {
      "text/plain": [
       "[1, 2, 'Hello', 5.5, (2+3j)]"
      ]
     },
     "execution_count": 6,
     "metadata": {},
     "output_type": "execute_result"
    }
   ],
   "source": [
    "list[0:7]"
   ]
  },
  {
   "cell_type": "code",
   "execution_count": 11,
   "id": "fa34a412",
   "metadata": {},
   "outputs": [
    {
     "data": {
      "text/plain": [
       "[(2+3j), 5.5, 'Hello', 2]"
      ]
     },
     "execution_count": 11,
     "metadata": {},
     "output_type": "execute_result"
    }
   ],
   "source": [
    "list[-1:-5:-1]"
   ]
  },
  {
   "cell_type": "code",
   "execution_count": 12,
   "id": "febaee67",
   "metadata": {},
   "outputs": [
    {
     "data": {
      "text/plain": [
       "[5.5, 2]"
      ]
     },
     "execution_count": 12,
     "metadata": {},
     "output_type": "execute_result"
    }
   ],
   "source": [
    "list[-2:-5:-2]"
   ]
  },
  {
   "cell_type": "markdown",
   "id": "865723e2",
   "metadata": {},
   "source": [
    "## Duplicate"
   ]
  },
  {
   "cell_type": "markdown",
   "id": "6582e03a",
   "metadata": {},
   "source": [
    "* It allows duplicate values"
   ]
  },
  {
   "cell_type": "code",
   "execution_count": 13,
   "id": "11b28b5f",
   "metadata": {},
   "outputs": [],
   "source": [
    "list = [1,2,3,3,4,4,5]"
   ]
  },
  {
   "cell_type": "code",
   "execution_count": 15,
   "id": "3fd13ce5",
   "metadata": {},
   "outputs": [
    {
     "data": {
      "text/plain": [
       "[1, 2, 3, 3, 4, 4, 5]"
      ]
     },
     "execution_count": 15,
     "metadata": {},
     "output_type": "execute_result"
    }
   ],
   "source": [
    "list"
   ]
  },
  {
   "cell_type": "code",
   "execution_count": 16,
   "id": "baf30c77",
   "metadata": {},
   "outputs": [],
   "source": [
    "a = [\"python\",\"c\",\"python\",\"c ++\",\"sql\"]"
   ]
  },
  {
   "cell_type": "code",
   "execution_count": 17,
   "id": "b34f09f6",
   "metadata": {},
   "outputs": [
    {
     "data": {
      "text/plain": [
       "['python', 'c', 'python', 'c ++', 'sql']"
      ]
     },
     "execution_count": 17,
     "metadata": {},
     "output_type": "execute_result"
    }
   ],
   "source": [
    "a"
   ]
  },
  {
   "cell_type": "markdown",
   "id": "9ec61441",
   "metadata": {},
   "source": [
    "## Index"
   ]
  },
  {
   "cell_type": "markdown",
   "id": "4c0b6510",
   "metadata": {},
   "source": [
    "* It follows index number\n",
    "\n",
    "* we apply string concept in index"
   ]
  },
  {
   "cell_type": "code",
   "execution_count": 18,
   "id": "09cb5977",
   "metadata": {},
   "outputs": [],
   "source": [
    "list = [\"java\",\"python\",\"c\",\"c++\",\"sql\"]"
   ]
  },
  {
   "cell_type": "code",
   "execution_count": 19,
   "id": "8a19102a",
   "metadata": {},
   "outputs": [
    {
     "data": {
      "text/plain": [
       "'python'"
      ]
     },
     "execution_count": 19,
     "metadata": {},
     "output_type": "execute_result"
    }
   ],
   "source": [
    "list[1]"
   ]
  },
  {
   "cell_type": "code",
   "execution_count": 21,
   "id": "e464d799",
   "metadata": {},
   "outputs": [
    {
     "data": {
      "text/plain": [
       "'sql'"
      ]
     },
     "execution_count": 21,
     "metadata": {},
     "output_type": "execute_result"
    }
   ],
   "source": [
    "list[4]"
   ]
  },
  {
   "cell_type": "code",
   "execution_count": 22,
   "id": "f1c82320",
   "metadata": {},
   "outputs": [
    {
     "data": {
      "text/plain": [
       "'He'"
      ]
     },
     "execution_count": 22,
     "metadata": {},
     "output_type": "execute_result"
    }
   ],
   "source": [
    "a = \"Hello\"\n",
    "a [0:2]"
   ]
  },
  {
   "cell_type": "code",
   "execution_count": 23,
   "id": "d859ace4",
   "metadata": {},
   "outputs": [],
   "source": [
    "list = [\"java\",\"python\",\"c\",\"c++\",\"sql\"]"
   ]
  },
  {
   "cell_type": "code",
   "execution_count": 25,
   "id": "a91302f7",
   "metadata": {},
   "outputs": [
    {
     "data": {
      "text/plain": [
       "'pytho'"
      ]
     },
     "execution_count": 25,
     "metadata": {},
     "output_type": "execute_result"
    }
   ],
   "source": [
    "list[1] [0:5]"
   ]
  },
  {
   "cell_type": "markdown",
   "id": "49424e3c",
   "metadata": {},
   "source": [
    "## Mathematical functions"
   ]
  },
  {
   "cell_type": "code",
   "execution_count": 32,
   "id": "c68ed042",
   "metadata": {},
   "outputs": [],
   "source": [
    "l = [1,2,4,7,52,45]"
   ]
  },
  {
   "cell_type": "code",
   "execution_count": 33,
   "id": "9e0e8810",
   "metadata": {},
   "outputs": [
    {
     "data": {
      "text/plain": [
       "52"
      ]
     },
     "execution_count": 33,
     "metadata": {},
     "output_type": "execute_result"
    }
   ],
   "source": [
    "max(l)"
   ]
  },
  {
   "cell_type": "code",
   "execution_count": 34,
   "id": "c3bc6b7d",
   "metadata": {},
   "outputs": [
    {
     "data": {
      "text/plain": [
       "1"
      ]
     },
     "execution_count": 34,
     "metadata": {},
     "output_type": "execute_result"
    }
   ],
   "source": [
    "min(l)"
   ]
  },
  {
   "cell_type": "code",
   "execution_count": 35,
   "id": "d26309c9",
   "metadata": {},
   "outputs": [
    {
     "data": {
      "text/plain": [
       "111"
      ]
     },
     "execution_count": 35,
     "metadata": {},
     "output_type": "execute_result"
    }
   ],
   "source": [
    "sum(l)"
   ]
  },
  {
   "cell_type": "markdown",
   "id": "14f8c7bc",
   "metadata": {},
   "source": [
    "## List methods and functions"
   ]
  },
  {
   "cell_type": "markdown",
   "id": "63a0fc64",
   "metadata": {},
   "source": [
    "### append ()"
   ]
  },
  {
   "cell_type": "code",
   "execution_count": 47,
   "id": "8db41eed",
   "metadata": {},
   "outputs": [],
   "source": [
    "list1 = [1,2,3,4,5]"
   ]
  },
  {
   "cell_type": "code",
   "execution_count": 48,
   "id": "69e3d3ff",
   "metadata": {},
   "outputs": [],
   "source": [
    "list1.append(100)           # append means adding and joining at the end"
   ]
  },
  {
   "cell_type": "code",
   "execution_count": 49,
   "id": "a5b9f6cd",
   "metadata": {},
   "outputs": [
    {
     "data": {
      "text/plain": [
       "[1, 2, 3, 4, 5, 100]"
      ]
     },
     "execution_count": 49,
     "metadata": {},
     "output_type": "execute_result"
    }
   ],
   "source": [
    "list1"
   ]
  },
  {
   "cell_type": "code",
   "execution_count": 50,
   "id": "c7f52aad",
   "metadata": {},
   "outputs": [],
   "source": [
    "list2 = [1,2,5,76,\"hello\"]"
   ]
  },
  {
   "cell_type": "code",
   "execution_count": 51,
   "id": "1c436c8f",
   "metadata": {},
   "outputs": [],
   "source": [
    "list2.append(\"world\")"
   ]
  },
  {
   "cell_type": "code",
   "execution_count": 52,
   "id": "ab8b36b0",
   "metadata": {},
   "outputs": [
    {
     "data": {
      "text/plain": [
       "[1, 2, 5, 76, 'hello', 'world']"
      ]
     },
     "execution_count": 52,
     "metadata": {},
     "output_type": "execute_result"
    }
   ],
   "source": [
    "list2"
   ]
  },
  {
   "cell_type": "markdown",
   "id": "5cbf914a",
   "metadata": {},
   "source": [
    "### Insert()"
   ]
  },
  {
   "cell_type": "code",
   "execution_count": 54,
   "id": "13f0b834",
   "metadata": {},
   "outputs": [],
   "source": [
    "list = [11,22,33,45,67,89,43,20]"
   ]
  },
  {
   "cell_type": "code",
   "execution_count": 56,
   "id": "13d41894",
   "metadata": {},
   "outputs": [],
   "source": [
    "list.insert(2,10)                  # adding values between number"
   ]
  },
  {
   "cell_type": "code",
   "execution_count": 57,
   "id": "c36068d0",
   "metadata": {},
   "outputs": [
    {
     "data": {
      "text/plain": [
       "[11, 22, 10, 33, 45, 67, 89, 43, 20]"
      ]
     },
     "execution_count": 57,
     "metadata": {},
     "output_type": "execute_result"
    }
   ],
   "source": [
    "list"
   ]
  },
  {
   "cell_type": "code",
   "execution_count": 58,
   "id": "5d49eed7",
   "metadata": {},
   "outputs": [],
   "source": [
    "list = [22,34,74,\"hello\"]"
   ]
  },
  {
   "cell_type": "code",
   "execution_count": 59,
   "id": "bc95ce48",
   "metadata": {},
   "outputs": [],
   "source": [
    "list.insert(4,\"world\")"
   ]
  },
  {
   "cell_type": "code",
   "execution_count": 60,
   "id": "91f5fb27",
   "metadata": {},
   "outputs": [
    {
     "data": {
      "text/plain": [
       "[22, 34, 74, 'hello', 'world']"
      ]
     },
     "execution_count": 60,
     "metadata": {},
     "output_type": "execute_result"
    }
   ],
   "source": [
    "list"
   ]
  },
  {
   "cell_type": "code",
   "execution_count": 61,
   "id": "606d307f",
   "metadata": {},
   "outputs": [],
   "source": [
    "list.insert(2,80)"
   ]
  },
  {
   "cell_type": "code",
   "execution_count": 62,
   "id": "8e0b9da2",
   "metadata": {},
   "outputs": [
    {
     "data": {
      "text/plain": [
       "[22, 34, 80, 74, 'hello', 'world']"
      ]
     },
     "execution_count": 62,
     "metadata": {},
     "output_type": "execute_result"
    }
   ],
   "source": [
    "list"
   ]
  },
  {
   "cell_type": "markdown",
   "id": "82067370",
   "metadata": {},
   "source": [
    "## Extend ()"
   ]
  },
  {
   "cell_type": "code",
   "execution_count": 73,
   "id": "93abd327",
   "metadata": {},
   "outputs": [],
   "source": [
    "list2 = [1,2,3,4,5,5,5,6,6,7]"
   ]
  },
  {
   "cell_type": "code",
   "execution_count": 74,
   "id": "4d16bffb",
   "metadata": {},
   "outputs": [],
   "source": [
    "list2.extend([0,0,0])                # adding more values at the end"
   ]
  },
  {
   "cell_type": "code",
   "execution_count": 75,
   "id": "cf09c786",
   "metadata": {},
   "outputs": [
    {
     "data": {
      "text/plain": [
       "[1, 2, 3, 4, 5, 5, 5, 6, 6, 7, 0, 0, 0]"
      ]
     },
     "execution_count": 75,
     "metadata": {},
     "output_type": "execute_result"
    }
   ],
   "source": [
    "list2"
   ]
  },
  {
   "cell_type": "code",
   "execution_count": 76,
   "id": "ea6384a2",
   "metadata": {},
   "outputs": [],
   "source": [
    "list = [2,5,8,\"hello\"]"
   ]
  },
  {
   "cell_type": "code",
   "execution_count": 77,
   "id": "707b0420",
   "metadata": {},
   "outputs": [],
   "source": [
    "list.extend([\"world\"])"
   ]
  },
  {
   "cell_type": "code",
   "execution_count": 78,
   "id": "811efcb7",
   "metadata": {},
   "outputs": [
    {
     "data": {
      "text/plain": [
       "[2, 5, 8, 'hello', 'world']"
      ]
     },
     "execution_count": 78,
     "metadata": {},
     "output_type": "execute_result"
    }
   ],
   "source": [
    "list"
   ]
  },
  {
   "cell_type": "markdown",
   "id": "b0e99ecf",
   "metadata": {},
   "source": [
    "## remove()"
   ]
  },
  {
   "cell_type": "code",
   "execution_count": 79,
   "id": "17b20f62",
   "metadata": {},
   "outputs": [],
   "source": [
    "list = [12,23,45,56,67]"
   ]
  },
  {
   "cell_type": "code",
   "execution_count": 81,
   "id": "8ffd5f86",
   "metadata": {},
   "outputs": [],
   "source": [
    "list.remove(23)                  # based on value you can remove "
   ]
  },
  {
   "cell_type": "code",
   "execution_count": 82,
   "id": "c91caedd",
   "metadata": {},
   "outputs": [
    {
     "data": {
      "text/plain": [
       "[12, 45, 56, 67]"
      ]
     },
     "execution_count": 82,
     "metadata": {},
     "output_type": "execute_result"
    }
   ],
   "source": [
    "list"
   ]
  },
  {
   "cell_type": "code",
   "execution_count": 83,
   "id": "444aa93a",
   "metadata": {},
   "outputs": [],
   "source": [
    "name = [\"sai\",\"bunny\",\"ganesh\",\"satish\",\"suresh\"]"
   ]
  },
  {
   "cell_type": "code",
   "execution_count": 84,
   "id": "7f0c2ed8",
   "metadata": {},
   "outputs": [],
   "source": [
    "name.remove(\"suresh\")"
   ]
  },
  {
   "cell_type": "code",
   "execution_count": 85,
   "id": "46438542",
   "metadata": {},
   "outputs": [
    {
     "data": {
      "text/plain": [
       "['sai', 'bunny', 'ganesh', 'satish']"
      ]
     },
     "execution_count": 85,
     "metadata": {},
     "output_type": "execute_result"
    }
   ],
   "source": [
    "name"
   ]
  },
  {
   "cell_type": "markdown",
   "id": "37904bd8",
   "metadata": {},
   "source": [
    "## pop()"
   ]
  },
  {
   "cell_type": "code",
   "execution_count": 86,
   "id": "eecdb101",
   "metadata": {},
   "outputs": [],
   "source": [
    "list3 = [10,20,30,40,50,60]               # Remove the value based on the index number"
   ]
  },
  {
   "cell_type": "code",
   "execution_count": 87,
   "id": "1713fba5",
   "metadata": {},
   "outputs": [
    {
     "data": {
      "text/plain": [
       "30"
      ]
     },
     "execution_count": 87,
     "metadata": {},
     "output_type": "execute_result"
    }
   ],
   "source": [
    "list3.pop(2)"
   ]
  },
  {
   "cell_type": "code",
   "execution_count": 88,
   "id": "a336b1e5",
   "metadata": {},
   "outputs": [
    {
     "data": {
      "text/plain": [
       "[10, 20, 40, 50, 60]"
      ]
     },
     "execution_count": 88,
     "metadata": {},
     "output_type": "execute_result"
    }
   ],
   "source": [
    "list3"
   ]
  },
  {
   "cell_type": "code",
   "execution_count": 89,
   "id": "d1728ff3",
   "metadata": {},
   "outputs": [],
   "source": [
    "list = [\"python\",\"sql\",\"c\",\"c++\"]"
   ]
  },
  {
   "cell_type": "code",
   "execution_count": 90,
   "id": "ffe33dcd",
   "metadata": {},
   "outputs": [
    {
     "data": {
      "text/plain": [
       "'c++'"
      ]
     },
     "execution_count": 90,
     "metadata": {},
     "output_type": "execute_result"
    }
   ],
   "source": [
    "list.pop(3)"
   ]
  },
  {
   "cell_type": "code",
   "execution_count": 91,
   "id": "f72ffdf6",
   "metadata": {},
   "outputs": [
    {
     "data": {
      "text/plain": [
       "['python', 'sql', 'c']"
      ]
     },
     "execution_count": 91,
     "metadata": {},
     "output_type": "execute_result"
    }
   ],
   "source": [
    "list"
   ]
  },
  {
   "cell_type": "markdown",
   "id": "e63f8d8d",
   "metadata": {},
   "source": [
    "## clear()"
   ]
  },
  {
   "cell_type": "code",
   "execution_count": 93,
   "id": "9b4015ab",
   "metadata": {},
   "outputs": [],
   "source": [
    "list1 = [12,344,45,67,89,90]"
   ]
  },
  {
   "cell_type": "code",
   "execution_count": 94,
   "id": "1f00bb24",
   "metadata": {},
   "outputs": [],
   "source": [
    "list.clear()"
   ]
  },
  {
   "cell_type": "code",
   "execution_count": 95,
   "id": "dfc8e3b9",
   "metadata": {},
   "outputs": [
    {
     "data": {
      "text/plain": [
       "[]"
      ]
     },
     "execution_count": 95,
     "metadata": {},
     "output_type": "execute_result"
    }
   ],
   "source": [
    "list"
   ]
  },
  {
   "cell_type": "code",
   "execution_count": 96,
   "id": "e8dd8e7a",
   "metadata": {},
   "outputs": [
    {
     "data": {
      "text/plain": [
       "[12, 344, 45, 67, 89, 90]"
      ]
     },
     "execution_count": 96,
     "metadata": {},
     "output_type": "execute_result"
    }
   ],
   "source": [
    "list1"
   ]
  },
  {
   "cell_type": "code",
   "execution_count": 99,
   "id": "89debf03",
   "metadata": {},
   "outputs": [
    {
     "data": {
      "text/plain": [
       "[12, 344, 45, 67, 89, 90, 100, 200]"
      ]
     },
     "execution_count": 99,
     "metadata": {},
     "output_type": "execute_result"
    }
   ],
   "source": [
    "list1 + [100,200]"
   ]
  },
  {
   "cell_type": "code",
   "execution_count": 100,
   "id": "7e056c48",
   "metadata": {},
   "outputs": [
    {
     "data": {
      "text/plain": [
       "[12, 344, 45, 67, 89, 90, 12, 344, 45, 67, 89, 90, 12, 344, 45, 67, 89, 90]"
      ]
     },
     "execution_count": 100,
     "metadata": {},
     "output_type": "execute_result"
    }
   ],
   "source": [
    "list1 * 3"
   ]
  },
  {
   "cell_type": "markdown",
   "id": "20c31fdb",
   "metadata": {},
   "source": [
    "## copy()"
   ]
  },
  {
   "cell_type": "code",
   "execution_count": 102,
   "id": "7d4b8c78",
   "metadata": {},
   "outputs": [],
   "source": [
    "list = [\"hello\",23,32]"
   ]
  },
  {
   "cell_type": "code",
   "execution_count": 103,
   "id": "60d3a06b",
   "metadata": {},
   "outputs": [
    {
     "data": {
      "text/plain": [
       "['hello', 23, 32]"
      ]
     },
     "execution_count": 103,
     "metadata": {},
     "output_type": "execute_result"
    }
   ],
   "source": [
    "list.copy()"
   ]
  },
  {
   "cell_type": "markdown",
   "id": "d94354dd",
   "metadata": {},
   "source": [
    "## count()"
   ]
  },
  {
   "cell_type": "code",
   "execution_count": 104,
   "id": "be52f6a5",
   "metadata": {},
   "outputs": [],
   "source": [
    "list = [1,2,3,5,5,6,6,7,5,8,9,]"
   ]
  },
  {
   "cell_type": "code",
   "execution_count": 105,
   "id": "2837f45a",
   "metadata": {},
   "outputs": [
    {
     "data": {
      "text/plain": [
       "1"
      ]
     },
     "execution_count": 105,
     "metadata": {},
     "output_type": "execute_result"
    }
   ],
   "source": [
    "list.count(1)                        # it counts the number of values"
   ]
  },
  {
   "cell_type": "code",
   "execution_count": 106,
   "id": "8e06dec8",
   "metadata": {},
   "outputs": [
    {
     "data": {
      "text/plain": [
       "3"
      ]
     },
     "execution_count": 106,
     "metadata": {},
     "output_type": "execute_result"
    }
   ],
   "source": [
    "list.count(5)"
   ]
  },
  {
   "cell_type": "code",
   "execution_count": 108,
   "id": "dbfe6e9b",
   "metadata": {},
   "outputs": [],
   "source": [
    "name = [\"sai\",\"bunny\",\"ganesh\",\"satish\",\"suresh\",\"sai\"]"
   ]
  },
  {
   "cell_type": "code",
   "execution_count": 110,
   "id": "a47b4d06",
   "metadata": {},
   "outputs": [
    {
     "data": {
      "text/plain": [
       "2"
      ]
     },
     "execution_count": 110,
     "metadata": {},
     "output_type": "execute_result"
    }
   ],
   "source": [
    "name.count(\"sai\")"
   ]
  },
  {
   "cell_type": "markdown",
   "id": "3ae4d771",
   "metadata": {},
   "source": [
    "## index()"
   ]
  },
  {
   "cell_type": "code",
   "execution_count": 114,
   "id": "5cba9a2c",
   "metadata": {},
   "outputs": [],
   "source": [
    "list = [\"hello\",1,2,3,5,\"hi\",5,6,6,7,\"hlo\",5,8,9,\"sql\"]"
   ]
  },
  {
   "cell_type": "code",
   "execution_count": 116,
   "id": "93657351",
   "metadata": {},
   "outputs": [
    {
     "data": {
      "text/plain": [
       "10"
      ]
     },
     "execution_count": 116,
     "metadata": {},
     "output_type": "execute_result"
    }
   ],
   "source": [
    "list.index(\"hlo\")                  # it represent the place of selected value"
   ]
  },
  {
   "cell_type": "code",
   "execution_count": null,
   "id": "2ba2d34c",
   "metadata": {},
   "outputs": [],
   "source": []
  }
 ],
 "metadata": {
  "kernelspec": {
   "display_name": "Python 3 (ipykernel)",
   "language": "python",
   "name": "python3"
  },
  "language_info": {
   "codemirror_mode": {
    "name": "ipython",
    "version": 3
   },
   "file_extension": ".py",
   "mimetype": "text/x-python",
   "name": "python",
   "nbconvert_exporter": "python",
   "pygments_lexer": "ipython3",
   "version": "3.11.4"
  }
 },
 "nbformat": 4,
 "nbformat_minor": 5
}
